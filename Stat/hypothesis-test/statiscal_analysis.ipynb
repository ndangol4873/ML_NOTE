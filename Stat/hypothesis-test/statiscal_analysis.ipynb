{
 "cells": [
  {
   "cell_type": "code",
   "execution_count": 1,
   "metadata": {},
   "outputs": [],
   "source": [
    "import pandas as pd\n",
    "import numpy as np\n",
    "import matplotlib.pyplot as plt\n",
    "import seaborn as sns\n",
    "import scipy.stats as stats\n",
    "from statsmodels.stats.weightstats import ztest\n",
    "\n",
    "\n",
    "from method import hypothesis_result, val_print"
   ]
  },
  {
   "cell_type": "code",
   "execution_count": null,
   "metadata": {},
   "outputs": [],
   "source": []
  },
  {
   "cell_type": "code",
   "execution_count": 2,
   "metadata": {},
   "outputs": [
    {
     "data": {
      "text/html": [
       "<div>\n",
       "<style scoped>\n",
       "    .dataframe tbody tr th:only-of-type {\n",
       "        vertical-align: middle;\n",
       "    }\n",
       "\n",
       "    .dataframe tbody tr th {\n",
       "        vertical-align: top;\n",
       "    }\n",
       "\n",
       "    .dataframe thead th {\n",
       "        text-align: right;\n",
       "    }\n",
       "</style>\n",
       "<table border=\"1\" class=\"dataframe\">\n",
       "  <thead>\n",
       "    <tr style=\"text-align: right;\">\n",
       "      <th></th>\n",
       "      <th>Customer_ID</th>\n",
       "      <th>Age</th>\n",
       "      <th>Gender</th>\n",
       "      <th>Income</th>\n",
       "      <th>Education_Level</th>\n",
       "      <th>Spending_Score_pre</th>\n",
       "      <th>Spending_Score_post</th>\n",
       "      <th>Customer_Satisfaction</th>\n",
       "      <th>Purchase_Frequency</th>\n",
       "    </tr>\n",
       "  </thead>\n",
       "  <tbody>\n",
       "    <tr>\n",
       "      <th>0</th>\n",
       "      <td>1</td>\n",
       "      <td>56</td>\n",
       "      <td>Male</td>\n",
       "      <td>49504</td>\n",
       "      <td>PhD</td>\n",
       "      <td>-68.815035</td>\n",
       "      <td>16.846098</td>\n",
       "      <td>4</td>\n",
       "      <td>3</td>\n",
       "    </tr>\n",
       "    <tr>\n",
       "      <th>1</th>\n",
       "      <td>2</td>\n",
       "      <td>46</td>\n",
       "      <td>Male</td>\n",
       "      <td>63209</td>\n",
       "      <td>PhD</td>\n",
       "      <td>225.243581</td>\n",
       "      <td>131.759754</td>\n",
       "      <td>2</td>\n",
       "      <td>26</td>\n",
       "    </tr>\n",
       "    <tr>\n",
       "      <th>2</th>\n",
       "      <td>3</td>\n",
       "      <td>32</td>\n",
       "      <td>Male</td>\n",
       "      <td>58315</td>\n",
       "      <td>High School</td>\n",
       "      <td>98.176549</td>\n",
       "      <td>-100.654257</td>\n",
       "      <td>1</td>\n",
       "      <td>1</td>\n",
       "    </tr>\n",
       "    <tr>\n",
       "      <th>3</th>\n",
       "      <td>4</td>\n",
       "      <td>60</td>\n",
       "      <td>Male</td>\n",
       "      <td>56685</td>\n",
       "      <td>PhD</td>\n",
       "      <td>-32.483138</td>\n",
       "      <td>113.987856</td>\n",
       "      <td>2</td>\n",
       "      <td>11</td>\n",
       "    </tr>\n",
       "    <tr>\n",
       "      <th>4</th>\n",
       "      <td>5</td>\n",
       "      <td>25</td>\n",
       "      <td>Male</td>\n",
       "      <td>69212</td>\n",
       "      <td>PhD</td>\n",
       "      <td>-249.940571</td>\n",
       "      <td>131.711507</td>\n",
       "      <td>1</td>\n",
       "      <td>16</td>\n",
       "    </tr>\n",
       "    <tr>\n",
       "      <th>...</th>\n",
       "      <td>...</td>\n",
       "      <td>...</td>\n",
       "      <td>...</td>\n",
       "      <td>...</td>\n",
       "      <td>...</td>\n",
       "      <td>...</td>\n",
       "      <td>...</td>\n",
       "      <td>...</td>\n",
       "      <td>...</td>\n",
       "    </tr>\n",
       "    <tr>\n",
       "      <th>495</th>\n",
       "      <td>496</td>\n",
       "      <td>37</td>\n",
       "      <td>Male</td>\n",
       "      <td>66851</td>\n",
       "      <td>Master's</td>\n",
       "      <td>32.579632</td>\n",
       "      <td>166.147017</td>\n",
       "      <td>3</td>\n",
       "      <td>29</td>\n",
       "    </tr>\n",
       "    <tr>\n",
       "      <th>496</th>\n",
       "      <td>497</td>\n",
       "      <td>41</td>\n",
       "      <td>Male</td>\n",
       "      <td>68546</td>\n",
       "      <td>Master's</td>\n",
       "      <td>19.438430</td>\n",
       "      <td>2.088649</td>\n",
       "      <td>2</td>\n",
       "      <td>6</td>\n",
       "    </tr>\n",
       "    <tr>\n",
       "      <th>497</th>\n",
       "      <td>498</td>\n",
       "      <td>29</td>\n",
       "      <td>Female</td>\n",
       "      <td>66715</td>\n",
       "      <td>PhD</td>\n",
       "      <td>-35.316629</td>\n",
       "      <td>23.070091</td>\n",
       "      <td>3</td>\n",
       "      <td>16</td>\n",
       "    </tr>\n",
       "    <tr>\n",
       "      <th>498</th>\n",
       "      <td>499</td>\n",
       "      <td>52</td>\n",
       "      <td>Male</td>\n",
       "      <td>69640</td>\n",
       "      <td>Bachelor's</td>\n",
       "      <td>33.848384</td>\n",
       "      <td>-126.016477</td>\n",
       "      <td>5</td>\n",
       "      <td>27</td>\n",
       "    </tr>\n",
       "    <tr>\n",
       "      <th>499</th>\n",
       "      <td>500</td>\n",
       "      <td>50</td>\n",
       "      <td>Male</td>\n",
       "      <td>79937</td>\n",
       "      <td>Bachelor's</td>\n",
       "      <td>-29.540141</td>\n",
       "      <td>-61.636141</td>\n",
       "      <td>2</td>\n",
       "      <td>20</td>\n",
       "    </tr>\n",
       "  </tbody>\n",
       "</table>\n",
       "<p>500 rows × 9 columns</p>\n",
       "</div>"
      ],
      "text/plain": [
       "     Customer_ID  Age  Gender  Income Education_Level  Spending_Score_pre  \\\n",
       "0              1   56    Male   49504             PhD          -68.815035   \n",
       "1              2   46    Male   63209             PhD          225.243581   \n",
       "2              3   32    Male   58315     High School           98.176549   \n",
       "3              4   60    Male   56685             PhD          -32.483138   \n",
       "4              5   25    Male   69212             PhD         -249.940571   \n",
       "..           ...  ...     ...     ...             ...                 ...   \n",
       "495          496   37    Male   66851        Master's           32.579632   \n",
       "496          497   41    Male   68546        Master's           19.438430   \n",
       "497          498   29  Female   66715             PhD          -35.316629   \n",
       "498          499   52    Male   69640      Bachelor's           33.848384   \n",
       "499          500   50    Male   79937      Bachelor's          -29.540141   \n",
       "\n",
       "     Spending_Score_post  Customer_Satisfaction  Purchase_Frequency  \n",
       "0              16.846098                      4                   3  \n",
       "1             131.759754                      2                  26  \n",
       "2            -100.654257                      1                   1  \n",
       "3             113.987856                      2                  11  \n",
       "4             131.711507                      1                  16  \n",
       "..                   ...                    ...                 ...  \n",
       "495           166.147017                      3                  29  \n",
       "496             2.088649                      2                   6  \n",
       "497            23.070091                      3                  16  \n",
       "498          -126.016477                      5                  27  \n",
       "499           -61.636141                      2                  20  \n",
       "\n",
       "[500 rows x 9 columns]"
      ]
     },
     "execution_count": 2,
     "metadata": {},
     "output_type": "execute_result"
    }
   ],
   "source": [
    "df = pd.read_csv('synthetic_customer_data.csv')\n",
    "df"
   ]
  },
  {
   "cell_type": "code",
   "execution_count": 3,
   "metadata": {},
   "outputs": [
    {
     "data": {
      "text/html": [
       "<div>\n",
       "<style scoped>\n",
       "    .dataframe tbody tr th:only-of-type {\n",
       "        vertical-align: middle;\n",
       "    }\n",
       "\n",
       "    .dataframe tbody tr th {\n",
       "        vertical-align: top;\n",
       "    }\n",
       "\n",
       "    .dataframe thead th {\n",
       "        text-align: right;\n",
       "    }\n",
       "</style>\n",
       "<table border=\"1\" class=\"dataframe\">\n",
       "  <thead>\n",
       "    <tr style=\"text-align: right;\">\n",
       "      <th></th>\n",
       "      <th>P-Value Range</th>\n",
       "      <th>Evidence Strength</th>\n",
       "    </tr>\n",
       "  </thead>\n",
       "  <tbody>\n",
       "    <tr>\n",
       "      <th>0</th>\n",
       "      <td>p &gt; 0.10</td>\n",
       "      <td>No or very weak evidence</td>\n",
       "    </tr>\n",
       "    <tr>\n",
       "      <th>1</th>\n",
       "      <td>0.05 &lt; p ≤ 0.10</td>\n",
       "      <td>Weak evidence</td>\n",
       "    </tr>\n",
       "    <tr>\n",
       "      <th>2</th>\n",
       "      <td>0.01 &lt; p ≤ 0.05</td>\n",
       "      <td>Moderate evidence</td>\n",
       "    </tr>\n",
       "    <tr>\n",
       "      <th>3</th>\n",
       "      <td>0.001 &lt; p ≤ 0.01</td>\n",
       "      <td>Strong evidence</td>\n",
       "    </tr>\n",
       "    <tr>\n",
       "      <th>4</th>\n",
       "      <td>p ≤ 0.001</td>\n",
       "      <td>Very strong or extreme evidence</td>\n",
       "    </tr>\n",
       "  </tbody>\n",
       "</table>\n",
       "</div>"
      ],
      "text/plain": [
       "      P-Value Range                Evidence Strength\n",
       "0          p > 0.10         No or very weak evidence\n",
       "1   0.05 < p ≤ 0.10                    Weak evidence\n",
       "2   0.01 < p ≤ 0.05                Moderate evidence\n",
       "3  0.001 < p ≤ 0.01                  Strong evidence\n",
       "4         p ≤ 0.001  Very strong or extreme evidence"
      ]
     },
     "execution_count": 3,
     "metadata": {},
     "output_type": "execute_result"
    }
   ],
   "source": [
    "import pandas as pd\n",
    "\n",
    "# Dictionary\n",
    "p_val_dict = {\n",
    "    \"p > 0.10\": \"No or very weak evidence\",\n",
    "    \"0.05 < p ≤ 0.10\": \"Weak evidence\",\n",
    "    \"0.01 < p ≤ 0.05\": \"Moderate evidence\",\n",
    "    \"0.001 < p ≤ 0.01\": \"Strong evidence\",\n",
    "    \"p ≤ 0.001\": \"Very strong or extreme evidence\"\n",
    "}\n",
    "\n",
    "# Convert dictionary to a DataFrame\n",
    "p_val_df = pd.DataFrame(list(p_val_dict.items()), columns=[\"P-Value Range\", \"Evidence Strength\"])\n",
    "\n",
    "# Display DataFrame\n",
    "p_val_df\n"
   ]
  },
  {
   "cell_type": "code",
   "execution_count": null,
   "metadata": {},
   "outputs": [],
   "source": []
  },
  {
   "cell_type": "markdown",
   "metadata": {},
   "source": [
    "## Z-Tests (Population Mean Known or Large Sample)"
   ]
  },
  {
   "cell_type": "markdown",
   "metadata": {},
   "source": [
    "#### You are testing whether the average customer income is greater than $50,000.\n"
   ]
  },
  {
   "cell_type": "markdown",
   "metadata": {},
   "source": [
    "##### ------------------------------- Income Senerio ----------------------------------------------------------------"
   ]
  },
  {
   "cell_type": "code",
   "execution_count": 4,
   "metadata": {},
   "outputs": [],
   "source": [
    "import pprint"
   ]
  },
  {
   "cell_type": "code",
   "execution_count": 5,
   "metadata": {},
   "outputs": [
    {
     "data": {
      "text/plain": [
       "{'parameters': 'sample_mean, std_dev,n(sample_data len) ',\n",
       " 'z_value': '(sample_mean - pop_mean) / (std_dev / np.sqrt(n))',\n",
       " 'p_value_two_tailed': '2 * (1 - stats.norm.cdf(abs(z_value))) [H₁: μ ≠ 30]',\n",
       " 'p_value_right_tailed': '1 - stats.norm.cdf(z_value)  [H₁: μ > 30]',\n",
       " 'p_value_left_tailed': 'stats.norm.cdf(z_value)  [H₁: μ < 30]'}"
      ]
     },
     "execution_count": 5,
     "metadata": {},
     "output_type": "execute_result"
    }
   ],
   "source": [
    "def refrence(key):\n",
    "    cal_reference = {\n",
    "                        \"z_test\":{\n",
    "                                    \"parameters\" :\"sample_mean, std_dev,n(sample_data len) \",\n",
    "                                    \"z_value\" : \"(sample_mean - pop_mean) / (std_dev / np.sqrt(n))\",\n",
    "                                    \"p_value_two_tailed\" : \"2 * (1 - stats.norm.cdf(abs(z_value))) [H₁: μ ≠ 30]\",\n",
    "                                    \"p_value_right_tailed\" : \"1 - stats.norm.cdf(z_value)  [H₁: μ > 30]\",\n",
    "                                    \"p_value_left_tailed\" : \"stats.norm.cdf(z_value)  [H₁: μ < 30]\"\n",
    "                                }\n",
    "                            \n",
    "                    }\n",
    "    # print (cal_reference)\n",
    "    return cal_reference.get(key)\n",
    "refrence('z_test')"
   ]
  },
  {
   "cell_type": "code",
   "execution_count": null,
   "metadata": {},
   "outputs": [],
   "source": []
  },
  {
   "cell_type": "code",
   "execution_count": 6,
   "metadata": {},
   "outputs": [
    {
     "name": "stdout",
     "output_type": "stream",
     "text": [
      "z_stat = 16.02, p_val = 0.0000\n",
      "Very strong/extreme evidence Highly significant — very strong support for rejecting H₀ [Income > 50,000]\n",
      "Very strong support for H₁ (p <= 0.001)\n"
     ]
    }
   ],
   "source": [
    "## Z-Test 1.1: One-tailed test to check if average Income > 50,000\n",
    "\n",
    "Ho = \"Income > 50,000\"\n",
    "\n",
    "z_stat, p_val = ztest(df['Income'], value=50000, alternative='larger')\n",
    "print(f\"z_stat = {z_stat:.2f}, p_val = {p_val:.4f}\")\n",
    "\n",
    "hypothesis_result(p=p_val, Ho=Ho)\n"
   ]
  },
  {
   "cell_type": "code",
   "execution_count": 7,
   "metadata": {},
   "outputs": [
    {
     "name": "stdout",
     "output_type": "stream",
     "text": [
      "stat: 16.02, p_val: 0.0000\n",
      "Very strong/extreme evidence Highly significant — very strong support for rejecting H₀ [Income > 50,000]\n",
      "Very strong support for H₁ (p <= 0.001)\n"
     ]
    }
   ],
   "source": [
    "Ho = \"Income > 50,000\"\n",
    "\n",
    "sample_data = df['Income']\n",
    "sample_mean = sample_data.mean()\n",
    "std = sample_data.std()\n",
    "pop_mean = 50000\n",
    "n = len(sample_data)\n",
    "\n",
    "z_value = (sample_mean - pop_mean) / (std/np.sqrt(n))\n",
    "z_value\n",
    "\n",
    "# greater than > 50000\n",
    "right_tail = 1 - stats.norm.cdf(z_value)\n",
    "right_tail\n",
    "val_print(z_value,right_tail)\n",
    "hypothesis_result(right_tail,Ho=Ho)"
   ]
  },
  {
   "cell_type": "code",
   "execution_count": null,
   "metadata": {},
   "outputs": [],
   "source": []
  },
  {
   "cell_type": "code",
   "execution_count": 8,
   "metadata": {},
   "outputs": [
    {
     "name": "stdout",
     "output_type": "stream",
     "text": [
      "z_stat = 16.02, p_val = 1.0000\n",
      "No evidence: Fail to reject H₀ [Income < 50,000] — the result is not statistically significant\n",
      "No support for H₁ (p > 0.10:)\n"
     ]
    }
   ],
   "source": [
    "## Z-Test 1.2: One-tailed test to check if average Income < 50,000\n",
    "\n",
    "Ho = \"Income < 50,000\"\n",
    "\n",
    "z_stat, p_val = ztest(df['Income'], value=50000, alternative='smaller')\n",
    "print(f\"z_stat = {z_stat:.2f}, p_val = {p_val:.4f}\")\n",
    "\n",
    "hypothesis_result(p=p_val, Ho=Ho)\n"
   ]
  },
  {
   "cell_type": "code",
   "execution_count": 9,
   "metadata": {},
   "outputs": [
    {
     "name": "stdout",
     "output_type": "stream",
     "text": [
      "stat: 16.02, p_val: 1.0000\n",
      "No evidence: Fail to reject H₀ [Income < 50,000] — the result is not statistically significant\n",
      "No support for H₁ (p > 0.10:)\n"
     ]
    }
   ],
   "source": [
    "Ho = \"Income < 50,000\"\n",
    "sample_data = df['Income']\n",
    "sample_mean = sample_data.mean()\n",
    "std = sample_data.std()\n",
    "pop_mean = 50000\n",
    "n = len(sample_data)\n",
    "\n",
    "z_value = (sample_mean - pop_mean) / (std/np.sqrt(n))\n",
    "\n",
    "\n",
    "# less than 50000\n",
    "left_tail = stats.norm.cdf(z_value)\n",
    "\n",
    "val_print(z_value, left_tail)\n",
    "hypothesis_result(left_tail, Ho=Ho)"
   ]
  },
  {
   "cell_type": "code",
   "execution_count": null,
   "metadata": {},
   "outputs": [],
   "source": []
  },
  {
   "cell_type": "code",
   "execution_count": 10,
   "metadata": {},
   "outputs": [
    {
     "name": "stdout",
     "output_type": "stream",
     "text": [
      "z_stat = 16.02, p_val = 0.0000\n",
      "Very strong/extreme evidence Highly significant — very strong support for rejecting H₀ [Income <> 50,000]\n",
      "Very strong support for H₁ (p <= 0.001)\n"
     ]
    }
   ],
   "source": [
    "## Z-Test 1.3: Two-tailed test to check if average Income <> 50,000\n",
    "\n",
    "Ho = \"Income <> 50,000\"\n",
    "\n",
    "z_stat, p_val = ztest(df['Income'], value=50000, alternative='two-sided')\n",
    "print(f\"z_stat = {z_stat:.2f}, p_val = {p_val:.4f}\")\n",
    "\n",
    "hypothesis_result(p=p_val, Ho=Ho)\n"
   ]
  },
  {
   "cell_type": "code",
   "execution_count": 11,
   "metadata": {},
   "outputs": [
    {
     "name": "stdout",
     "output_type": "stream",
     "text": [
      "stat: 16.02, p_val: 0.0000\n",
      "Very strong/extreme evidence Highly significant — very strong support for rejecting H₀ [Income <>  50,000]\n",
      "Very strong support for H₁ (p <= 0.001)\n"
     ]
    }
   ],
   "source": [
    "Ho = \"Income <>  50,000\"\n",
    "sample_data = df['Income']\n",
    "sample_mean = sample_data.mean()\n",
    "std = sample_data.std()\n",
    "pop_mean = 50000\n",
    "n = len(sample_data)\n",
    "\n",
    "z_value = (sample_mean - pop_mean) / (std/np.sqrt(n))\n",
    "\n",
    "\n",
    "# less than <> 50000\n",
    "two_tail = 2 * (1 - stats.norm.cdf(abs(z_value)))\n",
    "\n",
    "val_print(z_value, two_tail)\n",
    "hypothesis_result(two_tail, Ho=Ho)"
   ]
  },
  {
   "cell_type": "code",
   "execution_count": null,
   "metadata": {},
   "outputs": [],
   "source": []
  },
  {
   "cell_type": "code",
   "execution_count": null,
   "metadata": {},
   "outputs": [],
   "source": []
  },
  {
   "cell_type": "code",
   "execution_count": 12,
   "metadata": {},
   "outputs": [
    {
     "name": "stdout",
     "output_type": "stream",
     "text": [
      "stat: 2.13, p_val: 0.0328\n",
      "Moderate evidence: Reject H₀ [Avg Age <> 40] — statistically significant at 5 percent level\n",
      "Moderate support for H₁ (0.01 < p <= 0.05)\n"
     ]
    }
   ],
   "source": [
    "## Z-Test 2: Two-tailed test to check if average Age ≠ 40\n",
    "\n",
    "Ho = \"Avg Age <> 40\"\n",
    "z_stat, p_val =  ztest(df['Age'], value =40, alternative='two-sided')\n",
    "val_print(z_stat,p_val)\n",
    "\n",
    "hypothesis_result(p=p_val, Ho=Ho)"
   ]
  },
  {
   "cell_type": "code",
   "execution_count": 13,
   "metadata": {},
   "outputs": [
    {
     "name": "stdout",
     "output_type": "stream",
     "text": [
      "Moderate evidence: Reject H₀ [Avg Age <> 40] — statistically significant at 5 percent level\n",
      "Moderate support for H₁ (0.01 < p <= 0.05)\n"
     ]
    }
   ],
   "source": [
    "Ho = \"Avg Age <> 40\"\n",
    "sample_data = df['Age']\n",
    "sample_mean = sample_data.mean()\n",
    "std = sample_data.std()\n",
    "pop_mean = 40\n",
    "n = len(sample_data)\n",
    "\n",
    "z_value = (sample_mean - pop_mean)/ (std/np.sqrt(n))\n",
    "\n",
    "smaller_tail = stats.norm.cdf(z_value)\n",
    "\n",
    "greater_tail = 1 - smaller_tail\n",
    "\n",
    "two_tail = 2 * (1 - (stats.norm.cdf(abs(z_value))))\n",
    "\n",
    "hypothesis_result(p=two_tail,Ho= Ho )"
   ]
  },
  {
   "cell_type": "code",
   "execution_count": null,
   "metadata": {},
   "outputs": [],
   "source": []
  },
  {
   "cell_type": "code",
   "execution_count": null,
   "metadata": {},
   "outputs": [],
   "source": []
  },
  {
   "cell_type": "markdown",
   "metadata": {},
   "source": [
    "# T-Test"
   ]
  },
  {
   "cell_type": "markdown",
   "metadata": {},
   "source": [
    "### # One-Sample T-Test: Check if average Income is significantly different from 60,000"
   ]
  },
  {
   "cell_type": "code",
   "execution_count": 14,
   "metadata": {},
   "outputs": [
    {
     "name": "stdout",
     "output_type": "stream",
     "text": [
      "stat: 0.88, p_val: 0.3785\n",
      "No evidence: Fail to reject H₀ [Average Income is <> 60000] — the result is not statistically significant\n",
      "No support for H₁ (p > 0.10:)\n"
     ]
    }
   ],
   "source": [
    "Ho = \"Average Income is <> 60000\"\n",
    "sample_data = df['Income']\n",
    "pop_mean = 60000\n",
    "\n",
    "t_stat, p_val = stats.ttest_1samp(sample_data, pop_mean)\n",
    "val_print(t_stat,p_val)\n",
    "\n",
    "hypothesis_result(p_val,Ho=Ho)"
   ]
  },
  {
   "cell_type": "code",
   "execution_count": null,
   "metadata": {},
   "outputs": [],
   "source": []
  },
  {
   "cell_type": "markdown",
   "metadata": {},
   "source": [
    "#### In a two-sample independent T-test, we'll compare the mean Income between Male and Female customers to see if there's a significant difference.\n"
   ]
  },
  {
   "cell_type": "code",
   "execution_count": 15,
   "metadata": {},
   "outputs": [
    {
     "name": "stdout",
     "output_type": "stream",
     "text": [
      "stat: -1.88, p_val: 0.3785\n",
      "No evidence: Fail to reject H₀ [income comaprision between Male and Female] — the result is not statistically significant\n",
      "No support for H₁ (p > 0.10:)\n"
     ]
    }
   ],
   "source": [
    "Ho = \"income comaprision between Male and Female\"\n",
    "male_income = df[df['Gender']=='Male']['Income']\n",
    "\n",
    "female_income = df[df['Gender']=='Female']['Income']\n",
    "\n",
    "t_stat , p_value = stats.ttest_ind(male_income,female_income)\n",
    "\n",
    "val_print(t_stat,p_val)\n",
    "hypothesis_result(p_val, Ho)\n"
   ]
  },
  {
   "cell_type": "code",
   "execution_count": null,
   "metadata": {},
   "outputs": [],
   "source": []
  },
  {
   "cell_type": "markdown",
   "metadata": {},
   "source": [
    "#### In a paired T-test, we compare the pre- and post-Spending_Score for each customer to see if there's a significant difference in spending scores before and after some intervention."
   ]
  },
  {
   "cell_type": "code",
   "execution_count": 22,
   "metadata": {},
   "outputs": [
    {
     "data": {
      "text/html": [
       "<div>\n",
       "<style scoped>\n",
       "    .dataframe tbody tr th:only-of-type {\n",
       "        vertical-align: middle;\n",
       "    }\n",
       "\n",
       "    .dataframe tbody tr th {\n",
       "        vertical-align: top;\n",
       "    }\n",
       "\n",
       "    .dataframe thead th {\n",
       "        text-align: right;\n",
       "    }\n",
       "</style>\n",
       "<table border=\"1\" class=\"dataframe\">\n",
       "  <thead>\n",
       "    <tr style=\"text-align: right;\">\n",
       "      <th></th>\n",
       "      <th>Customer_ID</th>\n",
       "      <th>Age</th>\n",
       "      <th>Gender</th>\n",
       "      <th>Income</th>\n",
       "      <th>Education_Level</th>\n",
       "      <th>Spending_Score_pre</th>\n",
       "      <th>Spending_Score_post</th>\n",
       "      <th>Customer_Satisfaction</th>\n",
       "      <th>Purchase_Frequency</th>\n",
       "    </tr>\n",
       "  </thead>\n",
       "  <tbody>\n",
       "    <tr>\n",
       "      <th>0</th>\n",
       "      <td>1</td>\n",
       "      <td>56</td>\n",
       "      <td>Male</td>\n",
       "      <td>49504</td>\n",
       "      <td>PhD</td>\n",
       "      <td>-68.815035</td>\n",
       "      <td>16.846098</td>\n",
       "      <td>4</td>\n",
       "      <td>3</td>\n",
       "    </tr>\n",
       "    <tr>\n",
       "      <th>1</th>\n",
       "      <td>2</td>\n",
       "      <td>46</td>\n",
       "      <td>Male</td>\n",
       "      <td>63209</td>\n",
       "      <td>PhD</td>\n",
       "      <td>225.243581</td>\n",
       "      <td>131.759754</td>\n",
       "      <td>2</td>\n",
       "      <td>26</td>\n",
       "    </tr>\n",
       "    <tr>\n",
       "      <th>2</th>\n",
       "      <td>3</td>\n",
       "      <td>32</td>\n",
       "      <td>Male</td>\n",
       "      <td>58315</td>\n",
       "      <td>High School</td>\n",
       "      <td>98.176549</td>\n",
       "      <td>-100.654257</td>\n",
       "      <td>1</td>\n",
       "      <td>1</td>\n",
       "    </tr>\n",
       "    <tr>\n",
       "      <th>3</th>\n",
       "      <td>4</td>\n",
       "      <td>60</td>\n",
       "      <td>Male</td>\n",
       "      <td>56685</td>\n",
       "      <td>PhD</td>\n",
       "      <td>-32.483138</td>\n",
       "      <td>113.987856</td>\n",
       "      <td>2</td>\n",
       "      <td>11</td>\n",
       "    </tr>\n",
       "    <tr>\n",
       "      <th>4</th>\n",
       "      <td>5</td>\n",
       "      <td>25</td>\n",
       "      <td>Male</td>\n",
       "      <td>69212</td>\n",
       "      <td>PhD</td>\n",
       "      <td>-249.940571</td>\n",
       "      <td>131.711507</td>\n",
       "      <td>1</td>\n",
       "      <td>16</td>\n",
       "    </tr>\n",
       "    <tr>\n",
       "      <th>...</th>\n",
       "      <td>...</td>\n",
       "      <td>...</td>\n",
       "      <td>...</td>\n",
       "      <td>...</td>\n",
       "      <td>...</td>\n",
       "      <td>...</td>\n",
       "      <td>...</td>\n",
       "      <td>...</td>\n",
       "      <td>...</td>\n",
       "    </tr>\n",
       "    <tr>\n",
       "      <th>495</th>\n",
       "      <td>496</td>\n",
       "      <td>37</td>\n",
       "      <td>Male</td>\n",
       "      <td>66851</td>\n",
       "      <td>Master's</td>\n",
       "      <td>32.579632</td>\n",
       "      <td>166.147017</td>\n",
       "      <td>3</td>\n",
       "      <td>29</td>\n",
       "    </tr>\n",
       "    <tr>\n",
       "      <th>496</th>\n",
       "      <td>497</td>\n",
       "      <td>41</td>\n",
       "      <td>Male</td>\n",
       "      <td>68546</td>\n",
       "      <td>Master's</td>\n",
       "      <td>19.438430</td>\n",
       "      <td>2.088649</td>\n",
       "      <td>2</td>\n",
       "      <td>6</td>\n",
       "    </tr>\n",
       "    <tr>\n",
       "      <th>497</th>\n",
       "      <td>498</td>\n",
       "      <td>29</td>\n",
       "      <td>Female</td>\n",
       "      <td>66715</td>\n",
       "      <td>PhD</td>\n",
       "      <td>-35.316629</td>\n",
       "      <td>23.070091</td>\n",
       "      <td>3</td>\n",
       "      <td>16</td>\n",
       "    </tr>\n",
       "    <tr>\n",
       "      <th>498</th>\n",
       "      <td>499</td>\n",
       "      <td>52</td>\n",
       "      <td>Male</td>\n",
       "      <td>69640</td>\n",
       "      <td>Bachelor's</td>\n",
       "      <td>33.848384</td>\n",
       "      <td>-126.016477</td>\n",
       "      <td>5</td>\n",
       "      <td>27</td>\n",
       "    </tr>\n",
       "    <tr>\n",
       "      <th>499</th>\n",
       "      <td>500</td>\n",
       "      <td>50</td>\n",
       "      <td>Male</td>\n",
       "      <td>79937</td>\n",
       "      <td>Bachelor's</td>\n",
       "      <td>-29.540141</td>\n",
       "      <td>-61.636141</td>\n",
       "      <td>2</td>\n",
       "      <td>20</td>\n",
       "    </tr>\n",
       "  </tbody>\n",
       "</table>\n",
       "<p>500 rows × 9 columns</p>\n",
       "</div>"
      ],
      "text/plain": [
       "     Customer_ID  Age  Gender  Income Education_Level  Spending_Score_pre  \\\n",
       "0              1   56    Male   49504             PhD          -68.815035   \n",
       "1              2   46    Male   63209             PhD          225.243581   \n",
       "2              3   32    Male   58315     High School           98.176549   \n",
       "3              4   60    Male   56685             PhD          -32.483138   \n",
       "4              5   25    Male   69212             PhD         -249.940571   \n",
       "..           ...  ...     ...     ...             ...                 ...   \n",
       "495          496   37    Male   66851        Master's           32.579632   \n",
       "496          497   41    Male   68546        Master's           19.438430   \n",
       "497          498   29  Female   66715             PhD          -35.316629   \n",
       "498          499   52    Male   69640      Bachelor's           33.848384   \n",
       "499          500   50    Male   79937      Bachelor's          -29.540141   \n",
       "\n",
       "     Spending_Score_post  Customer_Satisfaction  Purchase_Frequency  \n",
       "0              16.846098                      4                   3  \n",
       "1             131.759754                      2                  26  \n",
       "2            -100.654257                      1                   1  \n",
       "3             113.987856                      2                  11  \n",
       "4             131.711507                      1                  16  \n",
       "..                   ...                    ...                 ...  \n",
       "495           166.147017                      3                  29  \n",
       "496             2.088649                      2                   6  \n",
       "497            23.070091                      3                  16  \n",
       "498          -126.016477                      5                  27  \n",
       "499           -61.636141                      2                  20  \n",
       "\n",
       "[500 rows x 9 columns]"
      ]
     },
     "execution_count": 22,
     "metadata": {},
     "output_type": "execute_result"
    }
   ],
   "source": [
    "df"
   ]
  },
  {
   "cell_type": "code",
   "execution_count": 24,
   "metadata": {},
   "outputs": [
    {
     "name": "stdout",
     "output_type": "stream",
     "text": [
      "stat: 0.98, p_val: 0.3295\n",
      "No evidence: Fail to reject H₀ [Singnificane between pre and post spending] — the result is not statistically significant\n",
      "No support for H₁ (p > 0.10:)\n"
     ]
    }
   ],
   "source": [
    "Ho = \"Singnificane between pre and post spending\"\n",
    "pre_spending = df['Spending_Score_pre']\n",
    "post_spending = df['Spending_Score_post']\n",
    "\n",
    "t_stat, p_val = stats.ttest_rel(pre_spending,post_spending)\n",
    "val_print(t_stat,p_val)\n",
    "\n",
    "hypothesis_result(p_val,Ho)"
   ]
  },
  {
   "cell_type": "code",
   "execution_count": null,
   "metadata": {},
   "outputs": [],
   "source": []
  },
  {
   "cell_type": "markdown",
   "metadata": {},
   "source": [
    "# Chi-Square Test Used for categorical data to test relationships between variables."
   ]
  },
  {
   "cell_type": "markdown",
   "metadata": {},
   "source": [
    "##### Are customer satisfaction and education level independent?"
   ]
  },
  {
   "cell_type": "code",
   "execution_count": 16,
   "metadata": {},
   "outputs": [
    {
     "data": {
      "text/html": [
       "<div>\n",
       "<style scoped>\n",
       "    .dataframe tbody tr th:only-of-type {\n",
       "        vertical-align: middle;\n",
       "    }\n",
       "\n",
       "    .dataframe tbody tr th {\n",
       "        vertical-align: top;\n",
       "    }\n",
       "\n",
       "    .dataframe thead th {\n",
       "        text-align: right;\n",
       "    }\n",
       "</style>\n",
       "<table border=\"1\" class=\"dataframe\">\n",
       "  <thead>\n",
       "    <tr style=\"text-align: right;\">\n",
       "      <th></th>\n",
       "      <th>Customer_ID</th>\n",
       "      <th>Age</th>\n",
       "      <th>Gender</th>\n",
       "      <th>Income</th>\n",
       "      <th>Education_Level</th>\n",
       "      <th>Spending_Score_pre</th>\n",
       "      <th>Spending_Score_post</th>\n",
       "      <th>Customer_Satisfaction</th>\n",
       "      <th>Purchase_Frequency</th>\n",
       "    </tr>\n",
       "  </thead>\n",
       "  <tbody>\n",
       "    <tr>\n",
       "      <th>0</th>\n",
       "      <td>1</td>\n",
       "      <td>56</td>\n",
       "      <td>Male</td>\n",
       "      <td>49504</td>\n",
       "      <td>PhD</td>\n",
       "      <td>-68.815035</td>\n",
       "      <td>16.846098</td>\n",
       "      <td>4</td>\n",
       "      <td>3</td>\n",
       "    </tr>\n",
       "    <tr>\n",
       "      <th>1</th>\n",
       "      <td>2</td>\n",
       "      <td>46</td>\n",
       "      <td>Male</td>\n",
       "      <td>63209</td>\n",
       "      <td>PhD</td>\n",
       "      <td>225.243581</td>\n",
       "      <td>131.759754</td>\n",
       "      <td>2</td>\n",
       "      <td>26</td>\n",
       "    </tr>\n",
       "    <tr>\n",
       "      <th>2</th>\n",
       "      <td>3</td>\n",
       "      <td>32</td>\n",
       "      <td>Male</td>\n",
       "      <td>58315</td>\n",
       "      <td>High School</td>\n",
       "      <td>98.176549</td>\n",
       "      <td>-100.654257</td>\n",
       "      <td>1</td>\n",
       "      <td>1</td>\n",
       "    </tr>\n",
       "    <tr>\n",
       "      <th>3</th>\n",
       "      <td>4</td>\n",
       "      <td>60</td>\n",
       "      <td>Male</td>\n",
       "      <td>56685</td>\n",
       "      <td>PhD</td>\n",
       "      <td>-32.483138</td>\n",
       "      <td>113.987856</td>\n",
       "      <td>2</td>\n",
       "      <td>11</td>\n",
       "    </tr>\n",
       "    <tr>\n",
       "      <th>4</th>\n",
       "      <td>5</td>\n",
       "      <td>25</td>\n",
       "      <td>Male</td>\n",
       "      <td>69212</td>\n",
       "      <td>PhD</td>\n",
       "      <td>-249.940571</td>\n",
       "      <td>131.711507</td>\n",
       "      <td>1</td>\n",
       "      <td>16</td>\n",
       "    </tr>\n",
       "  </tbody>\n",
       "</table>\n",
       "</div>"
      ],
      "text/plain": [
       "   Customer_ID  Age Gender  Income Education_Level  Spending_Score_pre  \\\n",
       "0            1   56   Male   49504             PhD          -68.815035   \n",
       "1            2   46   Male   63209             PhD          225.243581   \n",
       "2            3   32   Male   58315     High School           98.176549   \n",
       "3            4   60   Male   56685             PhD          -32.483138   \n",
       "4            5   25   Male   69212             PhD         -249.940571   \n",
       "\n",
       "   Spending_Score_post  Customer_Satisfaction  Purchase_Frequency  \n",
       "0            16.846098                      4                   3  \n",
       "1           131.759754                      2                  26  \n",
       "2          -100.654257                      1                   1  \n",
       "3           113.987856                      2                  11  \n",
       "4           131.711507                      1                  16  "
      ]
     },
     "execution_count": 16,
     "metadata": {},
     "output_type": "execute_result"
    }
   ],
   "source": [
    "df.head()"
   ]
  },
  {
   "cell_type": "code",
   "execution_count": 35,
   "metadata": {},
   "outputs": [
    {
     "name": "stdout",
     "output_type": "stream",
     "text": [
      "Chi-Square:20.40\n",
      "Pvalue: 0.0598\n",
      "Degree od freedom: 12\n",
      "Expected Value\n",
      "[[29.92  28.38  24.42  27.28 ]\n",
      " [25.568 24.252 20.868 23.312]\n",
      " [29.376 27.864 23.976 26.784]\n",
      " [25.568 24.252 20.868 23.312]\n",
      " [25.568 24.252 20.868 23.312]]\n",
      "Weak evidence: Borderline result  H₀ [Variable are Independent] — might warrant further investigation\n",
      "Weak support for H₁ (0.05 < p <= 0.10)\n"
     ]
    }
   ],
   "source": [
    "Ho = \"Variable are Independent\"\n",
    "Customer_Satisfaction = df['Customer_Satisfaction']\n",
    "Education_Level = df['Education_Level']\n",
    "contingency = pd.crosstab(Customer_Satisfaction, Education_Level)\n",
    "chi2, p_val , dof, expected = stats.chi2_contingency(contingency)\n",
    "print(f\"Chi-Square:{chi2:.2f}\\nPvalue: {p_val:.4f}\\nDegree od freedom: {dof}\\nExpected Value\\n{expected}\")\n",
    "\n",
    "hypothesis_result(p_val,Ho=Ho)"
   ]
  },
  {
   "cell_type": "code",
   "execution_count": null,
   "metadata": {},
   "outputs": [],
   "source": []
  },
  {
   "cell_type": "markdown",
   "metadata": {},
   "source": [
    "##### Are Gender and education level independent?"
   ]
  },
  {
   "cell_type": "code",
   "execution_count": 42,
   "metadata": {},
   "outputs": [
    {
     "name": "stdout",
     "output_type": "stream",
     "text": [
      "stat: 5.00, p_val: 0.1720\n",
      "No evidence: Fail to reject H₀ [Gender and education are not dependent] — the result is not statistically significant\n",
      "No support for H₁ (p > 0.10:)\n"
     ]
    }
   ],
   "source": [
    "Ho = \"Gender and education are not dependent\"\n",
    "Gender = df['Gender']\n",
    "Education_Level = df['Education_Level']\n",
    "\n",
    "contingency = pd.crosstab(Gender, Education_Level)\n",
    "\n",
    "chi2, p_val, dof, expected = stats.chi2_contingency(contingency)\n",
    "val_print(chi2,p_val)\n",
    "hypothesis_result(p_val, Ho=Ho)"
   ]
  },
  {
   "cell_type": "code",
   "execution_count": null,
   "metadata": {},
   "outputs": [],
   "source": []
  },
  {
   "cell_type": "markdown",
   "metadata": {},
   "source": [
    "# ANOVA (Analysis of Variance)\n",
    "Used to compare 3 or more groups and see if there's a difference in means."
   ]
  },
  {
   "cell_type": "markdown",
   "metadata": {},
   "source": [
    "#### 1. Is there a difference in purchase frequency across different education levels?"
   ]
  },
  {
   "cell_type": "code",
   "execution_count": null,
   "metadata": {},
   "outputs": [
    {
     "data": {
      "text/plain": [
       "[5      18\n",
       " 8      10\n",
       " 11     19\n",
       " 12      4\n",
       " 15     24\n",
       "        ..\n",
       " 479    24\n",
       " 493     1\n",
       " 494    22\n",
       " 498    27\n",
       " 499    20\n",
       " Name: Purchase_Frequency, Length: 136, dtype: int64,\n",
       " 2       1\n",
       " 10      6\n",
       " 14     13\n",
       " 19      6\n",
       " 22     24\n",
       "        ..\n",
       " 485     7\n",
       " 486     8\n",
       " 487    13\n",
       " 488     6\n",
       " 490     2\n",
       " Name: Purchase_Frequency, Length: 129, dtype: int64,\n",
       " 6      16\n",
       " 9      18\n",
       " 13     27\n",
       " 24     14\n",
       " 32      6\n",
       "        ..\n",
       " 481    27\n",
       " 483     8\n",
       " 491     8\n",
       " 495    29\n",
       " 496     6\n",
       " Name: Purchase_Frequency, Length: 111, dtype: int64,\n",
       " 0       3\n",
       " 1      26\n",
       " 3      11\n",
       " 4      16\n",
       " 7      23\n",
       "        ..\n",
       " 478    25\n",
       " 484    29\n",
       " 489    18\n",
       " 492    11\n",
       " 497    16\n",
       " Name: Purchase_Frequency, Length: 124, dtype: int64]"
      ]
     },
     "execution_count": 60,
     "metadata": {},
     "output_type": "execute_result"
    }
   ],
   "source": [
    "Ho = \"No difference in purchase frequency\"\n",
    "\n",
    "\n",
    "## Neumerical column\n",
    "# [group[df.select_dtypes(include=(float,int)).columns] for name, group in df.groupby('Education_Level')]\n",
    "\n",
    "## For specific Required Column\n",
    "education_purchase = [group['Purchase_Frequency'] for name , group in df.groupby('Education_Level')]\n",
    "education_purchase"
   ]
  },
  {
   "cell_type": "code",
   "execution_count": 70,
   "metadata": {},
   "outputs": [
    {
     "name": "stdout",
     "output_type": "stream",
     "text": [
      "stat: 0.59, p_val: 0.6190\n",
      "No evidence: Fail to reject H₀ [No difference in purchase frequency] — the result is not statistically significant\n",
      "No support for H₁ (p > 0.10:)\n"
     ]
    }
   ],
   "source": [
    "f_stat, p_val = stats.f_oneway(*education_purchase)\n",
    "val_print(f_stat,p_val)\n",
    "hypothesis_result(p_val, Ho=Ho)"
   ]
  },
  {
   "cell_type": "code",
   "execution_count": null,
   "metadata": {},
   "outputs": [],
   "source": []
  },
  {
   "cell_type": "markdown",
   "metadata": {},
   "source": [
    "## A/B Testing Data Type:\n",
    "Usually compares proportions or means between two groups."
   ]
  },
  {
   "cell_type": "code",
   "execution_count": null,
   "metadata": {},
   "outputs": [],
   "source": []
  },
  {
   "cell_type": "code",
   "execution_count": null,
   "metadata": {},
   "outputs": [],
   "source": []
  },
  {
   "cell_type": "code",
   "execution_count": null,
   "metadata": {},
   "outputs": [],
   "source": []
  },
  {
   "cell_type": "code",
   "execution_count": null,
   "metadata": {},
   "outputs": [],
   "source": []
  }
 ],
 "metadata": {
  "kernelspec": {
   "display_name": "ds_generic",
   "language": "python",
   "name": "python3"
  },
  "language_info": {
   "codemirror_mode": {
    "name": "ipython",
    "version": 3
   },
   "file_extension": ".py",
   "mimetype": "text/x-python",
   "name": "python",
   "nbconvert_exporter": "python",
   "pygments_lexer": "ipython3",
   "version": "3.9.20"
  }
 },
 "nbformat": 4,
 "nbformat_minor": 2
}
