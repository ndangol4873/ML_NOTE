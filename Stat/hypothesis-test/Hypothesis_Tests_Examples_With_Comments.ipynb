{
 "cells": [
  {
   "cell_type": "code",
   "execution_count": null,
   "metadata": {},
   "outputs": [],
   "source": [
    "# Import Libraries and Load Data"
   ]
  },
  {
   "cell_type": "code",
   "execution_count": null,
   "metadata": {},
   "outputs": [],
   "source": [
    "# 🔍 Z-Test 1: One-tailed test to check if average Income > 50,000\n",
    "import pandas as pd\n",
    "from scipy import stats\n",
    "from statsmodels.stats.weightstats import ztest\n",
    "import numpy as np\n",
    "\n",
    "# Load the dataset\n",
    "df = pd.read_csv('synthetic_customer_data.csv')"
   ]
  },
  {
   "cell_type": "code",
   "execution_count": null,
   "metadata": {},
   "outputs": [],
   "source": [
    "# 🔍 Z-Test 2: Two-tailed test to check if average Age ≠ 40\n",
    "# Z-Tests"
   ]
  },
  {
   "cell_type": "code",
   "execution_count": null,
   "metadata": {},
   "outputs": [],
   "source": [
    "# 🔍 Z-Test 3: One-tailed test to check if average Spending Score Post < 100\n",
    "z_stat, p_val = ztest(df['Income'], value=50000, alternative='larger')\n",
    "print(f\"Z-Test 1 (Income > 50k): Z = {z_stat:.2f}, p = {p_val:.4f}\")\n",
    "\n",
    "# Summary: Reject H0 if p < 0.05, otherwise fail to reject.\n",
    "if p_val < 0.05:\n",
    "    print('➡️ Reject the null hypothesis.')\n",
    "else:\n",
    "    print('➡️ Fail to reject the null hypothesis.')"
   ]
  },
  {
   "cell_type": "code",
   "execution_count": null,
   "metadata": {},
   "outputs": [],
   "source": [
    "# 🔍 T-Test 1: One-sample, one-tailed test to check if average Age > 35\n",
    "z_stat, p_val = ztest(df['Age'], value=40, alternative='two-sided')\n",
    "print(f\"Z-Test 2 (Age ≠ 40): Z = {z_stat:.2f}, p = {p_val:.4f}\")\n",
    "\n",
    "# Summary: Reject H0 if p < 0.05, otherwise fail to reject.\n",
    "if p_val < 0.05:\n",
    "    print('➡️ Reject the null hypothesis.')\n",
    "else:\n",
    "    print('➡️ Fail to reject the null hypothesis.')"
   ]
  },
  {
   "cell_type": "code",
   "execution_count": null,
   "metadata": {},
   "outputs": [],
   "source": [
    "# 🔍 T-Test 2: One-sample, two-tailed test to check if average Income ≠ 60,000\n",
    "z_stat, p_val = ztest(df['Spending_Score_post'], value=100, alternative='smaller')\n",
    "print(f\"Z-Test 3 (Spending Score Post < 100): Z = {z_stat:.2f}, p = {p_val:.4f}\")\n",
    "\n",
    "# Summary: Reject H0 if p < 0.05, otherwise fail to reject.\n",
    "if p_val < 0.05:\n",
    "    print('➡️ Reject the null hypothesis.')\n",
    "else:\n",
    "    print('➡️ Fail to reject the null hypothesis.')"
   ]
  },
  {
   "cell_type": "code",
   "execution_count": null,
   "metadata": {},
   "outputs": [],
   "source": [
    "# 🔍 T-Test 3: One-sample, one-tailed test to check if Purchase Frequency < 20\n",
    "# One-Sample T-Tests"
   ]
  },
  {
   "cell_type": "code",
   "execution_count": null,
   "metadata": {},
   "outputs": [],
   "source": [
    "# 🔍 T-Test 4: Independent two-sample, one-tailed test if Male Income > Female Income\n",
    "t_stat, p_val = stats.ttest_1samp(df['Age'], popmean=35)\n",
    "print(f\"T-Test 1 (Age > 35): t = {t_stat:.2f}, p = {p_val/2:.4f}\")\n",
    "\n",
    "# Summary: Reject H0 if p < 0.05, otherwise fail to reject.\n",
    "if p_val < 0.05:\n",
    "    print('➡️ Reject the null hypothesis.')\n",
    "else:\n",
    "    print('➡️ Fail to reject the null hypothesis.')"
   ]
  },
  {
   "cell_type": "code",
   "execution_count": null,
   "metadata": {},
   "outputs": [],
   "source": [
    "# 🔍 T-Test 5: Paired t-test to check if Spending Score changed (Pre vs Post)\n",
    "t_stat, p_val = stats.ttest_1samp(df['Income'], popmean=60000)\n",
    "print(f\"T-Test 2 (Income ≠ 60k): t = {t_stat:.2f}, p = {p_val:.4f}\")\n",
    "\n",
    "# Summary: Reject H0 if p < 0.05, otherwise fail to reject.\n",
    "if p_val < 0.05:\n",
    "    print('➡️ Reject the null hypothesis.')\n",
    "else:\n",
    "    print('➡️ Fail to reject the null hypothesis.')"
   ]
  },
  {
   "cell_type": "code",
   "execution_count": null,
   "metadata": {},
   "outputs": [],
   "source": [
    "# 🔍 T-Test 6: Independent two-sample, two-tailed test between Satisfaction Level 4 vs 1\n",
    "t_stat, p_val = stats.ttest_1samp(df['Purchase_Frequency'], popmean=20)\n",
    "print(f\"T-Test 3 (Purchase Frequency < 20): t = {t_stat:.2f}, p = {p_val/2:.4f}\")\n",
    "\n",
    "# Summary: Reject H0 if p < 0.05, otherwise fail to reject.\n",
    "if p_val < 0.05:\n",
    "    print('➡️ Reject the null hypothesis.')\n",
    "else:\n",
    "    print('➡️ Fail to reject the null hypothesis.')"
   ]
  },
  {
   "cell_type": "code",
   "execution_count": null,
   "metadata": {},
   "outputs": [],
   "source": [
    "# 🔍 T-Test 7: Independent two-sample, two-tailed test between Young vs Senior Purchase Frequency\n",
    "# Independent and Paired T-Tests"
   ]
  },
  {
   "cell_type": "code",
   "execution_count": null,
   "metadata": {},
   "outputs": [],
   "source": [
    "# 🔍 Chi-Square Test 1: Test independence of Customer Satisfaction and Education Level\n",
    "male_income = df[df['Gender'] == 'Male']['Income']\n",
    "female_income = df[df['Gender'] == 'Female']['Income']\n",
    "t_stat, p_val = stats.ttest_ind(male_income, female_income)\n",
    "print(f\"2-Sample T-Test 1 (Male > Female Income): t = {t_stat:.2f}, p = {p_val/2:.4f}\")\n",
    "\n",
    "# Summary: Reject H0 if p < 0.05, otherwise fail to reject.\n",
    "if p_val < 0.05:\n",
    "    print('➡️ Reject the null hypothesis.')\n",
    "else:\n",
    "    print('➡️ Fail to reject the null hypothesis.')"
   ]
  },
  {
   "cell_type": "code",
   "execution_count": null,
   "metadata": {},
   "outputs": [],
   "source": [
    "# 🔍 Chi-Square Test 2: Test independence of Gender and Purchase Frequency Group\n",
    "t_stat, p_val = stats.ttest_rel(df['Spending_Score_pre'], df['Spending_Score_post'])\n",
    "print(f\"Paired T-Test 2 (Pre vs Post Spending): t = {t_stat:.2f}, p = {p_val:.4f}\")\n",
    "\n",
    "# Summary: Reject H0 if p < 0.05, otherwise fail to reject.\n",
    "if p_val < 0.05:\n",
    "    print('➡️ Reject the null hypothesis.')\n",
    "else:\n",
    "    print('➡️ Fail to reject the null hypothesis.')"
   ]
  },
  {
   "cell_type": "code",
   "execution_count": null,
   "metadata": {},
   "outputs": [],
   "source": [
    "# 🔍 Chi-Square Test 3: Test independence of Age Group and Customer Satisfaction\n",
    "s1 = df[df['Customer_Satisfaction'] == 4]['Income']\n",
    "s2 = df[df['Customer_Satisfaction'] == 1]['Income']\n",
    "t_stat, p_val = stats.ttest_ind(s1, s2)\n",
    "print(f\"2-Sample T-Test 3 (Satisfaction 4 vs 1 Income): t = {t_stat:.2f}, p = {p_val:.4f}\")\n",
    "\n",
    "# Summary: Reject H0 if p < 0.05, otherwise fail to reject.\n",
    "if p_val < 0.05:\n",
    "    print('➡️ Reject the null hypothesis.')\n",
    "else:\n",
    "    print('➡️ Fail to reject the null hypothesis.')"
   ]
  },
  {
   "cell_type": "code",
   "execution_count": null,
   "metadata": {},
   "outputs": [],
   "source": [
    "# 🔍 ANOVA 1: Test if Purchase Frequency differs by Education Level\n",
    "# Extra Independent T-Test: Young vs Senior"
   ]
  },
  {
   "cell_type": "code",
   "execution_count": null,
   "metadata": {},
   "outputs": [],
   "source": [
    "# 🔍 ANOVA 2: Test if Spending Score Post differs across Age Groups\n",
    "df['Age_Group'] = pd.cut(df['Age'], bins=[0, 30, 50, 100], labels=['Young', 'Middle', 'Senior'])\n",
    "young_group = df[df['Age_Group'] == 'Young']['Purchase_Frequency']\n",
    "senior_group = df[df['Age_Group'] == 'Senior']['Purchase_Frequency']\n",
    "t_stat, p_val = stats.ttest_ind(young_group, senior_group, equal_var=False)\n",
    "print(f\"2-Sample T-Test 4 (Young vs Senior Purchase Frequency): t = {t_stat:.2f}, p = {p_val:.4f}\")\n",
    "\n",
    "# Summary: Reject H0 if p < 0.05, otherwise fail to reject.\n",
    "if p_val < 0.05:\n",
    "    print('➡️ Reject the null hypothesis.')\n",
    "else:\n",
    "    print('➡️ Fail to reject the null hypothesis.')"
   ]
  },
  {
   "cell_type": "code",
   "execution_count": null,
   "metadata": {},
   "outputs": [],
   "source": [
    "# 🔍 ANOVA 3: Test if Income differs across Customer Satisfaction levels\n",
    "# Chi-Square Tests"
   ]
  }
 ],
 "metadata": {
  "language_info": {
   "name": "python"
  }
 },
 "nbformat": 4,
 "nbformat_minor": 5
}
