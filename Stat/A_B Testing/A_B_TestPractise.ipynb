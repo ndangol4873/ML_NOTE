{
 "cells": [
  {
   "cell_type": "code",
   "execution_count": 4,
   "metadata": {},
   "outputs": [],
   "source": [
    "import pandas as pd"
   ]
  },
  {
   "cell_type": "code",
   "execution_count": 5,
   "metadata": {},
   "outputs": [],
   "source": [
    "# pd.set_option('display.max_rows',None)"
   ]
  },
  {
   "cell_type": "code",
   "execution_count": 6,
   "metadata": {},
   "outputs": [],
   "source": [
    "df = pd.read_csv('D:\\ML_NOTE\\Stat\\A_B Testing\\data2.csv')"
   ]
  },
  {
   "cell_type": "code",
   "execution_count": 8,
   "metadata": {},
   "outputs": [
    {
     "data": {
      "text/plain": [
       "Index(['id', 'date', 'time_slot', 'total_user_time_spent_in_mins',\n",
       "       'total_ads_watched_in_mins', 'ads_clicked',\n",
       "       'user_time_spent_versionB_in_mins', 'ads_watched_vesionB_in_mins',\n",
       "       'ads_clicked_versionB', 'user_time_spent_versionA_in_mins'],\n",
       "      dtype='object')"
      ]
     },
     "execution_count": 8,
     "metadata": {},
     "output_type": "execute_result"
    }
   ],
   "source": [
    "df.columns"
   ]
  },
  {
   "cell_type": "code",
   "execution_count": 10,
   "metadata": {},
   "outputs": [
    {
     "data": {
      "text/plain": [
       "0       7\n",
       "1      19\n",
       "2      10\n",
       "3       5\n",
       "4      12\n",
       "       ..\n",
       "115     0\n",
       "116     2\n",
       "117     4\n",
       "118     6\n",
       "119     2\n",
       "Name: ads_clicked_versionA, Length: 120, dtype: int64"
      ]
     },
     "execution_count": 10,
     "metadata": {},
     "output_type": "execute_result"
    }
   ],
   "source": [
    "df['user_time_spent_versionA_in_mins'] = df['total_user_time_spent_in_mins'] - df['user_time_spent_versionB_in_mins']\n",
    "df['ads_watched_vesionA_in_mins'] = df['total_ads_watched_in_mins'] - df['ads_watched_vesionB_in_mins']\n",
    "df['ads_clicked_versionA'] = df['ads_clicked'] - df['ads_clicked_versionB']\n",
    "df['ads_clicked_versionA']"
   ]
  },
  {
   "cell_type": "code",
   "execution_count": 11,
   "metadata": {},
   "outputs": [
    {
     "data": {
      "text/html": [
       "<div>\n",
       "<style scoped>\n",
       "    .dataframe tbody tr th:only-of-type {\n",
       "        vertical-align: middle;\n",
       "    }\n",
       "\n",
       "    .dataframe tbody tr th {\n",
       "        vertical-align: top;\n",
       "    }\n",
       "\n",
       "    .dataframe thead th {\n",
       "        text-align: right;\n",
       "    }\n",
       "</style>\n",
       "<table border=\"1\" class=\"dataframe\">\n",
       "  <thead>\n",
       "    <tr style=\"text-align: right;\">\n",
       "      <th></th>\n",
       "      <th>id</th>\n",
       "      <th>date</th>\n",
       "      <th>time_slot</th>\n",
       "      <th>total_user_time_spent_in_mins</th>\n",
       "      <th>total_ads_watched_in_mins</th>\n",
       "      <th>ads_clicked</th>\n",
       "      <th>user_time_spent_versionB_in_mins</th>\n",
       "      <th>ads_watched_vesionB_in_mins</th>\n",
       "      <th>ads_clicked_versionB</th>\n",
       "      <th>user_time_spent_versionA_in_mins</th>\n",
       "      <th>ads_watched_vesionA_in_mins</th>\n",
       "      <th>ads_clicked_versionA</th>\n",
       "    </tr>\n",
       "  </thead>\n",
       "  <tbody>\n",
       "    <tr>\n",
       "      <th>0</th>\n",
       "      <td>0</td>\n",
       "      <td>2020-06-01</td>\n",
       "      <td>00:00-05:59</td>\n",
       "      <td>391678</td>\n",
       "      <td>2628</td>\n",
       "      <td>14</td>\n",
       "      <td>168421</td>\n",
       "      <td>2628</td>\n",
       "      <td>7</td>\n",
       "      <td>223257</td>\n",
       "      <td>0</td>\n",
       "      <td>7</td>\n",
       "    </tr>\n",
       "    <tr>\n",
       "      <th>1</th>\n",
       "      <td>1</td>\n",
       "      <td>-</td>\n",
       "      <td>06:00-11:59</td>\n",
       "      <td>310658</td>\n",
       "      <td>10115</td>\n",
       "      <td>25</td>\n",
       "      <td>183288</td>\n",
       "      <td>10115</td>\n",
       "      <td>6</td>\n",
       "      <td>127370</td>\n",
       "      <td>0</td>\n",
       "      <td>19</td>\n",
       "    </tr>\n",
       "    <tr>\n",
       "      <th>2</th>\n",
       "      <td>2</td>\n",
       "      <td>-</td>\n",
       "      <td>12:00-17:59</td>\n",
       "      <td>481794</td>\n",
       "      <td>177</td>\n",
       "      <td>27</td>\n",
       "      <td>202353</td>\n",
       "      <td>177</td>\n",
       "      <td>17</td>\n",
       "      <td>279441</td>\n",
       "      <td>0</td>\n",
       "      <td>10</td>\n",
       "    </tr>\n",
       "    <tr>\n",
       "      <th>3</th>\n",
       "      <td>3</td>\n",
       "      <td>-</td>\n",
       "      <td>18:00-23:59</td>\n",
       "      <td>403677</td>\n",
       "      <td>11415</td>\n",
       "      <td>12</td>\n",
       "      <td>133213</td>\n",
       "      <td>9512</td>\n",
       "      <td>7</td>\n",
       "      <td>270464</td>\n",
       "      <td>1903</td>\n",
       "      <td>5</td>\n",
       "    </tr>\n",
       "    <tr>\n",
       "      <th>4</th>\n",
       "      <td>4</td>\n",
       "      <td>2020-06-02</td>\n",
       "      <td>00:00-05:59</td>\n",
       "      <td>287230</td>\n",
       "      <td>21619</td>\n",
       "      <td>20</td>\n",
       "      <td>195316</td>\n",
       "      <td>17587</td>\n",
       "      <td>8</td>\n",
       "      <td>91914</td>\n",
       "      <td>4032</td>\n",
       "      <td>12</td>\n",
       "    </tr>\n",
       "    <tr>\n",
       "      <th>...</th>\n",
       "      <td>...</td>\n",
       "      <td>...</td>\n",
       "      <td>...</td>\n",
       "      <td>...</td>\n",
       "      <td>...</td>\n",
       "      <td>...</td>\n",
       "      <td>...</td>\n",
       "      <td>...</td>\n",
       "      <td>...</td>\n",
       "      <td>...</td>\n",
       "      <td>...</td>\n",
       "      <td>...</td>\n",
       "    </tr>\n",
       "    <tr>\n",
       "      <th>115</th>\n",
       "      <td>115</td>\n",
       "      <td>-</td>\n",
       "      <td>18:00-23:59</td>\n",
       "      <td>384058</td>\n",
       "      <td>11956</td>\n",
       "      <td>0</td>\n",
       "      <td>180507</td>\n",
       "      <td>11956</td>\n",
       "      <td>0</td>\n",
       "      <td>203551</td>\n",
       "      <td>0</td>\n",
       "      <td>0</td>\n",
       "    </tr>\n",
       "    <tr>\n",
       "      <th>116</th>\n",
       "      <td>116</td>\n",
       "      <td>2020-06-30</td>\n",
       "      <td>00:00-05:59</td>\n",
       "      <td>326695</td>\n",
       "      <td>25997</td>\n",
       "      <td>4</td>\n",
       "      <td>182949</td>\n",
       "      <td>17828</td>\n",
       "      <td>2</td>\n",
       "      <td>143746</td>\n",
       "      <td>8169</td>\n",
       "      <td>2</td>\n",
       "    </tr>\n",
       "    <tr>\n",
       "      <th>117</th>\n",
       "      <td>117</td>\n",
       "      <td>-</td>\n",
       "      <td>06:00-11:59</td>\n",
       "      <td>452055</td>\n",
       "      <td>31333</td>\n",
       "      <td>11</td>\n",
       "      <td>239589</td>\n",
       "      <td>18403</td>\n",
       "      <td>7</td>\n",
       "      <td>212466</td>\n",
       "      <td>12930</td>\n",
       "      <td>4</td>\n",
       "    </tr>\n",
       "    <tr>\n",
       "      <th>118</th>\n",
       "      <td>118</td>\n",
       "      <td>-</td>\n",
       "      <td>12:00-17:59</td>\n",
       "      <td>405690</td>\n",
       "      <td>1208</td>\n",
       "      <td>8</td>\n",
       "      <td>182560</td>\n",
       "      <td>1208</td>\n",
       "      <td>2</td>\n",
       "      <td>223130</td>\n",
       "      <td>0</td>\n",
       "      <td>6</td>\n",
       "    </tr>\n",
       "    <tr>\n",
       "      <th>119</th>\n",
       "      <td>119</td>\n",
       "      <td>-</td>\n",
       "      <td>18:00-23:59</td>\n",
       "      <td>409105</td>\n",
       "      <td>3799</td>\n",
       "      <td>7</td>\n",
       "      <td>270009</td>\n",
       "      <td>3799</td>\n",
       "      <td>5</td>\n",
       "      <td>139096</td>\n",
       "      <td>0</td>\n",
       "      <td>2</td>\n",
       "    </tr>\n",
       "  </tbody>\n",
       "</table>\n",
       "<p>120 rows × 12 columns</p>\n",
       "</div>"
      ],
      "text/plain": [
       "      id        date    time_slot  total_user_time_spent_in_mins  \\\n",
       "0      0  2020-06-01  00:00-05:59                         391678   \n",
       "1      1           -  06:00-11:59                         310658   \n",
       "2      2           -  12:00-17:59                         481794   \n",
       "3      3           -  18:00-23:59                         403677   \n",
       "4      4  2020-06-02  00:00-05:59                         287230   \n",
       "..   ...         ...          ...                            ...   \n",
       "115  115           -  18:00-23:59                         384058   \n",
       "116  116  2020-06-30  00:00-05:59                         326695   \n",
       "117  117           -  06:00-11:59                         452055   \n",
       "118  118           -  12:00-17:59                         405690   \n",
       "119  119           -  18:00-23:59                         409105   \n",
       "\n",
       "     total_ads_watched_in_mins  ads_clicked  user_time_spent_versionB_in_mins  \\\n",
       "0                         2628           14                            168421   \n",
       "1                        10115           25                            183288   \n",
       "2                          177           27                            202353   \n",
       "3                        11415           12                            133213   \n",
       "4                        21619           20                            195316   \n",
       "..                         ...          ...                               ...   \n",
       "115                      11956            0                            180507   \n",
       "116                      25997            4                            182949   \n",
       "117                      31333           11                            239589   \n",
       "118                       1208            8                            182560   \n",
       "119                       3799            7                            270009   \n",
       "\n",
       "     ads_watched_vesionB_in_mins  ads_clicked_versionB  \\\n",
       "0                           2628                     7   \n",
       "1                          10115                     6   \n",
       "2                            177                    17   \n",
       "3                           9512                     7   \n",
       "4                          17587                     8   \n",
       "..                           ...                   ...   \n",
       "115                        11956                     0   \n",
       "116                        17828                     2   \n",
       "117                        18403                     7   \n",
       "118                         1208                     2   \n",
       "119                         3799                     5   \n",
       "\n",
       "     user_time_spent_versionA_in_mins  ads_watched_vesionA_in_mins  \\\n",
       "0                              223257                            0   \n",
       "1                              127370                            0   \n",
       "2                              279441                            0   \n",
       "3                              270464                         1903   \n",
       "4                               91914                         4032   \n",
       "..                                ...                          ...   \n",
       "115                            203551                            0   \n",
       "116                            143746                         8169   \n",
       "117                            212466                        12930   \n",
       "118                            223130                            0   \n",
       "119                            139096                            0   \n",
       "\n",
       "     ads_clicked_versionA  \n",
       "0                       7  \n",
       "1                      19  \n",
       "2                      10  \n",
       "3                       5  \n",
       "4                      12  \n",
       "..                    ...  \n",
       "115                     0  \n",
       "116                     2  \n",
       "117                     4  \n",
       "118                     6  \n",
       "119                     2  \n",
       "\n",
       "[120 rows x 12 columns]"
      ]
     },
     "execution_count": 11,
     "metadata": {},
     "output_type": "execute_result"
    }
   ],
   "source": [
    "df"
   ]
  },
  {
   "cell_type": "code",
   "execution_count": null,
   "metadata": {},
   "outputs": [],
   "source": []
  },
  {
   "cell_type": "markdown",
   "metadata": {},
   "source": [
    "## **Problem 1: A/B Testing - Time Spent**\n",
    "**Scenario:** A streaming platform launched a new version (B) of its homepage to see if it increases user engagement measured by time spent. You're tasked to determine if there's a statistically significant difference in the average time spent between version A and version B.\n",
    "\n",
    "- H0: µ_A = µ_B (No difference in average time spent)\n",
    "- H1: µ_A ≠ µ_B (There is a difference)\n",
    "\n"
   ]
  },
  {
   "cell_type": "code",
   "execution_count": 12,
   "metadata": {},
   "outputs": [
    {
     "data": {
      "text/plain": [
       "np.float64(89410.64618755526)"
      ]
     },
     "execution_count": 12,
     "metadata": {},
     "output_type": "execute_result"
    }
   ],
   "source": [
    "df['total_user_time_spent_in_mins'].std()"
   ]
  },
  {
   "cell_type": "code",
   "execution_count": 14,
   "metadata": {},
   "outputs": [
    {
     "data": {
      "text/plain": [
       "np.float64(73379.66190465295)"
      ]
     },
     "execution_count": 14,
     "metadata": {},
     "output_type": "execute_result"
    }
   ],
   "source": [
    "df['user_time_spent_versionB_in_mins'].std()"
   ]
  },
  {
   "cell_type": "code",
   "execution_count": 13,
   "metadata": {},
   "outputs": [
    {
     "data": {
      "text/plain": [
       "np.float64(7994263651.676189)"
      ]
     },
     "execution_count": 13,
     "metadata": {},
     "output_type": "execute_result"
    }
   ],
   "source": [
    "df['total_user_time_spent_in_mins'].var()"
   ]
  },
  {
   "cell_type": "code",
   "execution_count": 15,
   "metadata": {},
   "outputs": [],
   "source": [
    "import matplotlib.pyplot as plt\n",
    "import seaborn as sns"
   ]
  },
  {
   "cell_type": "code",
   "execution_count": null,
   "metadata": {},
   "outputs": [],
   "source": []
  },
  {
   "cell_type": "code",
   "execution_count": null,
   "metadata": {},
   "outputs": [],
   "source": []
  }
 ],
 "metadata": {
  "kernelspec": {
   "display_name": "ds_generic",
   "language": "python",
   "name": "python3"
  },
  "language_info": {
   "codemirror_mode": {
    "name": "ipython",
    "version": 3
   },
   "file_extension": ".py",
   "mimetype": "text/x-python",
   "name": "python",
   "nbconvert_exporter": "python",
   "pygments_lexer": "ipython3",
   "version": "3.9.20"
  }
 },
 "nbformat": 4,
 "nbformat_minor": 2
}
