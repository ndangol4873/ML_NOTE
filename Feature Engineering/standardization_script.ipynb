{
 "cells": [
  {
   "cell_type": "code",
   "execution_count": 1,
   "metadata": {
    "_cell_guid": "b1076dfc-b9ad-4769-8c92-a6c4dae69d19",
    "_uuid": "8f2839f25d086af736a60e9eeb907d3b93b6e0e5",
    "tags": []
   },
   "outputs": [],
   "source": [
    "import numpy as np # linear algebra\n",
    "import pandas as pd # data processing\n",
    "import matplotlib.pyplot as plt\n",
    "import seaborn as sns"
   ]
  },
  {
   "cell_type": "code",
   "execution_count": 2,
   "metadata": {
    "tags": []
   },
   "outputs": [],
   "source": [
    "df = pd.read_csv('Social_Network_Ads.csv')"
   ]
  },
  {
   "cell_type": "code",
   "execution_count": 9,
   "metadata": {
    "tags": []
   },
   "outputs": [
    {
     "data": {
      "text/html": [
       "<div>\n",
       "<style scoped>\n",
       "    .dataframe tbody tr th:only-of-type {\n",
       "        vertical-align: middle;\n",
       "    }\n",
       "\n",
       "    .dataframe tbody tr th {\n",
       "        vertical-align: top;\n",
       "    }\n",
       "\n",
       "    .dataframe thead th {\n",
       "        text-align: right;\n",
       "    }\n",
       "</style>\n",
       "<table border=\"1\" class=\"dataframe\">\n",
       "  <thead>\n",
       "    <tr style=\"text-align: right;\">\n",
       "      <th></th>\n",
       "      <th>User ID</th>\n",
       "      <th>Gender</th>\n",
       "      <th>Age</th>\n",
       "      <th>EstimatedSalary</th>\n",
       "      <th>Purchased</th>\n",
       "    </tr>\n",
       "  </thead>\n",
       "  <tbody>\n",
       "    <tr>\n",
       "      <th>0</th>\n",
       "      <td>15624510</td>\n",
       "      <td>Male</td>\n",
       "      <td>19</td>\n",
       "      <td>19000</td>\n",
       "      <td>0</td>\n",
       "    </tr>\n",
       "    <tr>\n",
       "      <th>1</th>\n",
       "      <td>15810944</td>\n",
       "      <td>Male</td>\n",
       "      <td>35</td>\n",
       "      <td>20000</td>\n",
       "      <td>0</td>\n",
       "    </tr>\n",
       "    <tr>\n",
       "      <th>2</th>\n",
       "      <td>15668575</td>\n",
       "      <td>Female</td>\n",
       "      <td>26</td>\n",
       "      <td>43000</td>\n",
       "      <td>0</td>\n",
       "    </tr>\n",
       "    <tr>\n",
       "      <th>3</th>\n",
       "      <td>15603246</td>\n",
       "      <td>Female</td>\n",
       "      <td>27</td>\n",
       "      <td>57000</td>\n",
       "      <td>0</td>\n",
       "    </tr>\n",
       "    <tr>\n",
       "      <th>4</th>\n",
       "      <td>15804002</td>\n",
       "      <td>Male</td>\n",
       "      <td>19</td>\n",
       "      <td>76000</td>\n",
       "      <td>0</td>\n",
       "    </tr>\n",
       "    <tr>\n",
       "      <th>...</th>\n",
       "      <td>...</td>\n",
       "      <td>...</td>\n",
       "      <td>...</td>\n",
       "      <td>...</td>\n",
       "      <td>...</td>\n",
       "    </tr>\n",
       "    <tr>\n",
       "      <th>395</th>\n",
       "      <td>15691863</td>\n",
       "      <td>Female</td>\n",
       "      <td>46</td>\n",
       "      <td>41000</td>\n",
       "      <td>1</td>\n",
       "    </tr>\n",
       "    <tr>\n",
       "      <th>396</th>\n",
       "      <td>15706071</td>\n",
       "      <td>Male</td>\n",
       "      <td>51</td>\n",
       "      <td>23000</td>\n",
       "      <td>1</td>\n",
       "    </tr>\n",
       "    <tr>\n",
       "      <th>397</th>\n",
       "      <td>15654296</td>\n",
       "      <td>Female</td>\n",
       "      <td>50</td>\n",
       "      <td>20000</td>\n",
       "      <td>1</td>\n",
       "    </tr>\n",
       "    <tr>\n",
       "      <th>398</th>\n",
       "      <td>15755018</td>\n",
       "      <td>Male</td>\n",
       "      <td>36</td>\n",
       "      <td>33000</td>\n",
       "      <td>0</td>\n",
       "    </tr>\n",
       "    <tr>\n",
       "      <th>399</th>\n",
       "      <td>15594041</td>\n",
       "      <td>Female</td>\n",
       "      <td>49</td>\n",
       "      <td>36000</td>\n",
       "      <td>1</td>\n",
       "    </tr>\n",
       "  </tbody>\n",
       "</table>\n",
       "<p>400 rows × 5 columns</p>\n",
       "</div>"
      ],
      "text/plain": [
       "      User ID  Gender  Age  EstimatedSalary  Purchased\n",
       "0    15624510    Male   19            19000          0\n",
       "1    15810944    Male   35            20000          0\n",
       "2    15668575  Female   26            43000          0\n",
       "3    15603246  Female   27            57000          0\n",
       "4    15804002    Male   19            76000          0\n",
       "..        ...     ...  ...              ...        ...\n",
       "395  15691863  Female   46            41000          1\n",
       "396  15706071    Male   51            23000          1\n",
       "397  15654296  Female   50            20000          1\n",
       "398  15755018    Male   36            33000          0\n",
       "399  15594041  Female   49            36000          1\n",
       "\n",
       "[400 rows x 5 columns]"
      ]
     },
     "execution_count": 9,
     "metadata": {},
     "output_type": "execute_result"
    }
   ],
   "source": [
    "df"
   ]
  },
  {
   "cell_type": "code",
   "execution_count": 10,
   "metadata": {
    "tags": []
   },
   "outputs": [],
   "source": [
    "df=df.iloc[:,2:]"
   ]
  },
  {
   "cell_type": "code",
   "execution_count": 11,
   "metadata": {
    "tags": []
   },
   "outputs": [
    {
     "data": {
      "text/html": [
       "<div>\n",
       "<style scoped>\n",
       "    .dataframe tbody tr th:only-of-type {\n",
       "        vertical-align: middle;\n",
       "    }\n",
       "\n",
       "    .dataframe tbody tr th {\n",
       "        vertical-align: top;\n",
       "    }\n",
       "\n",
       "    .dataframe thead th {\n",
       "        text-align: right;\n",
       "    }\n",
       "</style>\n",
       "<table border=\"1\" class=\"dataframe\">\n",
       "  <thead>\n",
       "    <tr style=\"text-align: right;\">\n",
       "      <th></th>\n",
       "      <th>Age</th>\n",
       "      <th>EstimatedSalary</th>\n",
       "      <th>Purchased</th>\n",
       "    </tr>\n",
       "  </thead>\n",
       "  <tbody>\n",
       "    <tr>\n",
       "      <th>74</th>\n",
       "      <td>32</td>\n",
       "      <td>18000</td>\n",
       "      <td>0</td>\n",
       "    </tr>\n",
       "    <tr>\n",
       "      <th>134</th>\n",
       "      <td>28</td>\n",
       "      <td>55000</td>\n",
       "      <td>0</td>\n",
       "    </tr>\n",
       "    <tr>\n",
       "      <th>70</th>\n",
       "      <td>25</td>\n",
       "      <td>80000</td>\n",
       "      <td>0</td>\n",
       "    </tr>\n",
       "    <tr>\n",
       "      <th>147</th>\n",
       "      <td>41</td>\n",
       "      <td>30000</td>\n",
       "      <td>0</td>\n",
       "    </tr>\n",
       "    <tr>\n",
       "      <th>395</th>\n",
       "      <td>46</td>\n",
       "      <td>41000</td>\n",
       "      <td>1</td>\n",
       "    </tr>\n",
       "  </tbody>\n",
       "</table>\n",
       "</div>"
      ],
      "text/plain": [
       "     Age  EstimatedSalary  Purchased\n",
       "74    32            18000          0\n",
       "134   28            55000          0\n",
       "70    25            80000          0\n",
       "147   41            30000          0\n",
       "395   46            41000          1"
      ]
     },
     "execution_count": 11,
     "metadata": {},
     "output_type": "execute_result"
    }
   ],
   "source": [
    "df.sample(5)"
   ]
  },
  {
   "cell_type": "markdown",
   "metadata": {},
   "source": [
    "## Train test split"
   ]
  },
  {
   "cell_type": "code",
   "execution_count": 13,
   "metadata": {
    "tags": []
   },
   "outputs": [
    {
     "data": {
      "text/plain": [
       "((280, 2), (120, 2))"
      ]
     },
     "execution_count": 13,
     "metadata": {},
     "output_type": "execute_result"
    }
   ],
   "source": [
    "from sklearn.model_selection import train_test_split\n",
    "X_train, X_test, y_train, y_test = train_test_split(\n",
    "                                   df.drop('Purchased', axis=1),\n",
    "                                            df['Purchased'],\n",
    "                                            test_size=0.3,\n",
    "                                            random_state=0\n",
    "                                                    )\n",
    "X_train.shape, X_test.shape "
   ]
  },
  {
   "cell_type": "markdown",
   "metadata": {},
   "source": [
    "# StandardScaler"
   ]
  },
  {
   "cell_type": "code",
   "execution_count": 14,
   "metadata": {
    "tags": []
   },
   "outputs": [],
   "source": [
    "from sklearn.preprocessing import StandardScaler\n",
    "\n",
    "scaler = StandardScaler()\n",
    "\n",
    "# fit the scaler to the train set, it will learn the parameters\n",
    "scaler.fit(X_train)\n",
    "\n",
    "# transform train and test sets\n",
    "X_train_scaled = scaler.transform(X_train)\n",
    "X_test_scaled = scaler.transform(X_test)"
   ]
  },
  {
   "cell_type": "code",
   "execution_count": 15,
   "metadata": {
    "tags": []
   },
   "outputs": [
    {
     "data": {
      "text/plain": [
       "array([3.78642857e+01, 6.98071429e+04])"
      ]
     },
     "execution_count": 15,
     "metadata": {},
     "output_type": "execute_result"
    }
   ],
   "source": [
    "scaler.mean_"
   ]
  },
  {
   "cell_type": "code",
   "execution_count": 16,
   "metadata": {
    "tags": []
   },
   "outputs": [
    {
     "data": {
      "text/html": [
       "<div>\n",
       "<style scoped>\n",
       "    .dataframe tbody tr th:only-of-type {\n",
       "        vertical-align: middle;\n",
       "    }\n",
       "\n",
       "    .dataframe tbody tr th {\n",
       "        vertical-align: top;\n",
       "    }\n",
       "\n",
       "    .dataframe thead th {\n",
       "        text-align: right;\n",
       "    }\n",
       "</style>\n",
       "<table border=\"1\" class=\"dataframe\">\n",
       "  <thead>\n",
       "    <tr style=\"text-align: right;\">\n",
       "      <th></th>\n",
       "      <th>Age</th>\n",
       "      <th>EstimatedSalary</th>\n",
       "    </tr>\n",
       "  </thead>\n",
       "  <tbody>\n",
       "    <tr>\n",
       "      <th>92</th>\n",
       "      <td>26</td>\n",
       "      <td>15000</td>\n",
       "    </tr>\n",
       "    <tr>\n",
       "      <th>223</th>\n",
       "      <td>60</td>\n",
       "      <td>102000</td>\n",
       "    </tr>\n",
       "    <tr>\n",
       "      <th>234</th>\n",
       "      <td>38</td>\n",
       "      <td>112000</td>\n",
       "    </tr>\n",
       "    <tr>\n",
       "      <th>232</th>\n",
       "      <td>40</td>\n",
       "      <td>107000</td>\n",
       "    </tr>\n",
       "    <tr>\n",
       "      <th>377</th>\n",
       "      <td>42</td>\n",
       "      <td>53000</td>\n",
       "    </tr>\n",
       "    <tr>\n",
       "      <th>...</th>\n",
       "      <td>...</td>\n",
       "      <td>...</td>\n",
       "    </tr>\n",
       "    <tr>\n",
       "      <th>323</th>\n",
       "      <td>48</td>\n",
       "      <td>30000</td>\n",
       "    </tr>\n",
       "    <tr>\n",
       "      <th>192</th>\n",
       "      <td>29</td>\n",
       "      <td>43000</td>\n",
       "    </tr>\n",
       "    <tr>\n",
       "      <th>117</th>\n",
       "      <td>36</td>\n",
       "      <td>52000</td>\n",
       "    </tr>\n",
       "    <tr>\n",
       "      <th>47</th>\n",
       "      <td>27</td>\n",
       "      <td>54000</td>\n",
       "    </tr>\n",
       "    <tr>\n",
       "      <th>172</th>\n",
       "      <td>26</td>\n",
       "      <td>118000</td>\n",
       "    </tr>\n",
       "  </tbody>\n",
       "</table>\n",
       "<p>280 rows × 2 columns</p>\n",
       "</div>"
      ],
      "text/plain": [
       "     Age  EstimatedSalary\n",
       "92    26            15000\n",
       "223   60           102000\n",
       "234   38           112000\n",
       "232   40           107000\n",
       "377   42            53000\n",
       "..   ...              ...\n",
       "323   48            30000\n",
       "192   29            43000\n",
       "117   36            52000\n",
       "47    27            54000\n",
       "172   26           118000\n",
       "\n",
       "[280 rows x 2 columns]"
      ]
     },
     "execution_count": 16,
     "metadata": {},
     "output_type": "execute_result"
    }
   ],
   "source": [
    "X_train"
   ]
  },
  {
   "cell_type": "code",
   "execution_count": 17,
   "metadata": {
    "tags": []
   },
   "outputs": [
    {
     "data": {
      "text/plain": [
       "array([[-1.1631724 , -1.5849703 ],\n",
       "       [ 2.17018137,  0.93098672],\n",
       "       [ 0.0133054 ,  1.22017719],\n",
       "       [ 0.20938504,  1.07558195],\n",
       "       [ 0.40546467, -0.48604654],\n",
       "       [-0.28081405, -0.31253226],\n",
       "       [ 0.99370357, -0.8330751 ],\n",
       "       [ 0.99370357,  1.8563962 ],\n",
       "       [ 0.0133054 ,  1.24909623],\n",
       "       [-0.86905295,  2.26126285],\n",
       "       [-1.1631724 , -1.5849703 ],\n",
       "       [ 2.17018137, -0.80415605],\n",
       "       [-1.35925203, -1.46929411],\n",
       "       [ 0.40546467,  2.2901819 ],\n",
       "       [ 0.79762394,  0.75747245],\n",
       "       [-0.96709276, -0.31253226],\n",
       "       [ 0.11134522,  0.75747245],\n",
       "       [-0.96709276,  0.55503912],\n",
       "       [ 0.30742485,  0.06341534],\n",
       "       [ 0.69958412, -1.26686079],\n",
       "       [-0.47689368, -0.0233418 ],\n",
       "       [-1.7514113 ,  0.3526058 ],\n",
       "       [-0.67297331,  0.12125343],\n",
       "       [ 0.40546467,  0.29476771],\n",
       "       [-0.28081405,  0.06341534],\n",
       "       [-0.47689368,  2.2901819 ],\n",
       "       [ 0.20938504,  0.03449629],\n",
       "       [ 1.28782302,  2.20342476],\n",
       "       [ 0.79762394,  0.26584866],\n",
       "       [-0.28081405,  0.15017248],\n",
       "       [ 0.0133054 , -0.54388463],\n",
       "       [-0.18277423,  0.15017248],\n",
       "       [-0.08473441,  0.23692961],\n",
       "       [ 0.0133054 , -0.25469417],\n",
       "       [ 2.17018137,  1.104501  ],\n",
       "       [-1.7514113 ,  0.3526058 ],\n",
       "       [ 1.87606192,  0.12125343],\n",
       "       [ 0.40546467, -0.13901799],\n",
       "       [-1.1631724 ,  0.29476771],\n",
       "       [ 0.79762394,  1.36477242],\n",
       "       [-0.28081405, -0.25469417],\n",
       "       [-1.65337148, -0.05226085],\n",
       "       [-0.96709276, -0.74631796],\n",
       "       [ 0.30742485,  0.49720103],\n",
       "       [-0.08473441, -1.06442747],\n",
       "       [-1.06513258,  0.58395817],\n",
       "       [ 0.11134522, -0.80415605],\n",
       "       [-0.96709276,  1.53828669],\n",
       "       [-0.67297331,  1.39369146],\n",
       "       [-1.26121221,  0.49720103],\n",
       "       [-0.28081405,  0.03449629],\n",
       "       [-0.08473441,  0.00557724],\n",
       "       [-0.28081405, -0.89091319],\n",
       "       [ 0.89566375, -1.35361793],\n",
       "       [-0.28081405,  2.2323438 ],\n",
       "       [ 0.99370357,  1.97207239],\n",
       "       [-1.1631724 ,  0.46828198],\n",
       "       [-1.26121221,  0.26584866],\n",
       "       [ 1.38586284,  1.97207239],\n",
       "       [ 1.28782302, -1.35361793],\n",
       "       [-0.28081405, -0.28361322],\n",
       "       [-0.47689368,  1.24909623],\n",
       "       [-0.77101313,  1.07558195],\n",
       "       [ 0.99370357, -1.06442747],\n",
       "       [ 0.30742485,  0.29476771],\n",
       "       [ 0.99370357,  0.75747245],\n",
       "       [-0.67297331, -1.49821316],\n",
       "       [-0.67297331,  0.03449629],\n",
       "       [ 0.50350449,  1.71180097],\n",
       "       [ 2.07214155,  0.17909152],\n",
       "       [-1.94749093, -0.74631796],\n",
       "       [-0.18277423,  1.39369146],\n",
       "       [ 0.40546467,  0.58395817],\n",
       "       [ 0.89566375, -1.1511846 ],\n",
       "       [-1.1631724 , -0.775237  ],\n",
       "       [ 0.20938504,  0.23692961],\n",
       "       [ 0.79762394, -0.31253226],\n",
       "       [ 2.07214155, -0.80415605],\n",
       "       [ 0.79762394,  0.12125343],\n",
       "       [-0.28081405,  0.61287722],\n",
       "       [-0.96709276, -0.31253226],\n",
       "       [ 0.20938504, -0.37037036],\n",
       "       [ 2.07214155,  2.11666762],\n",
       "       [ 1.87606192, -1.26686079],\n",
       "       [ 1.38586284, -0.91983223],\n",
       "       [ 0.89566375,  1.24909623],\n",
       "       [ 1.48390265,  2.11666762],\n",
       "       [-0.28081405, -1.23794174],\n",
       "       [ 1.97410174,  0.90206768],\n",
       "       [ 0.69958412, -0.71739891],\n",
       "       [-1.45729185,  0.3526058 ],\n",
       "       [ 0.79762394, -1.35361793],\n",
       "       [ 0.40546467, -0.13901799],\n",
       "       [-0.96709276,  0.41044389],\n",
       "       [ 0.0133054 , -0.31253226],\n",
       "       [-1.1631724 ,  0.41044389],\n",
       "       [-0.86905295, -1.2090227 ],\n",
       "       [-0.08473441,  0.03449629],\n",
       "       [-1.55533166, -0.42820845],\n",
       "       [ 0.99370357, -1.00658937],\n",
       "       [ 1.09174339, -1.2090227 ],\n",
       "       [ 0.0133054 , -0.13901799],\n",
       "       [-1.06513258, -1.52713221],\n",
       "       [ 0.79762394, -1.2090227 ],\n",
       "       [ 0.99370357,  2.05882953],\n",
       "       [-1.1631724 , -1.52713221],\n",
       "       [-0.28081405,  0.78639149],\n",
       "       [ 0.11134522, -0.31253226],\n",
       "       [-1.35925203, -1.23794174],\n",
       "       [-0.5749335 , -1.49821316],\n",
       "       [ 0.79762394,  0.52612008],\n",
       "       [-0.28081405, -0.34145131],\n",
       "       [ 1.7780221 , -0.28361322],\n",
       "       [ 0.89566375, -1.03550842],\n",
       "       [ 0.20938504,  0.06341534],\n",
       "       [-0.5749335 ,  0.87314863],\n",
       "       [-1.84945111, -1.41145602],\n",
       "       [-1.26121221,  0.58395817],\n",
       "       [-0.28081405,  0.52612008],\n",
       "       [-0.96709276, -1.09334651],\n",
       "       [ 1.1897832 , -1.44037507],\n",
       "       [ 0.20938504, -0.31253226],\n",
       "       [ 1.1897832 , -0.74631796],\n",
       "       [-0.28081405,  0.06341534],\n",
       "       [ 0.20938504,  2.08774857],\n",
       "       [ 0.79762394, -1.09334651],\n",
       "       [ 0.11134522,  0.03449629],\n",
       "       [-1.7514113 ,  0.12125343],\n",
       "       [-0.86905295,  0.15017248],\n",
       "       [-0.67297331,  0.17909152],\n",
       "       [ 0.89566375, -1.29577984],\n",
       "       [ 0.20938504, -0.25469417],\n",
       "       [-0.37885386,  1.22017719],\n",
       "       [ 0.0133054 ,  0.29476771],\n",
       "       [ 0.40546467,  0.15017248],\n",
       "       [ 0.89566375, -0.65956082],\n",
       "       [ 0.11134522,  0.15017248],\n",
       "       [-1.84945111, -1.29577984],\n",
       "       [-0.08473441,  0.29476771],\n",
       "       [-0.18277423, -0.28361322],\n",
       "       [ 0.30742485, -0.51496559],\n",
       "       [-0.18277423,  1.59612479],\n",
       "       [ 0.99370357, -1.18010365],\n",
       "       [-0.18277423,  1.62504383],\n",
       "       [ 1.28782302,  1.8563962 ],\n",
       "       [-1.06513258, -0.37037036],\n",
       "       [ 0.0133054 ,  0.03449629],\n",
       "       [ 0.11134522, -0.25469417],\n",
       "       [-1.55533166, -1.23794174],\n",
       "       [-0.47689368, -0.28361322],\n",
       "       [ 0.99370357,  0.12125343],\n",
       "       [ 1.97410174, -1.35361793],\n",
       "       [ 1.48390265,  0.06341534],\n",
       "       [-0.5749335 ,  1.36477242],\n",
       "       [ 1.58194247,  0.00557724],\n",
       "       [-0.77101313,  0.29476771],\n",
       "       [ 1.97410174,  0.7285534 ],\n",
       "       [-1.1631724 , -0.51496559],\n",
       "       [ 0.69958412,  0.26584866],\n",
       "       [-1.35925203, -0.42820845],\n",
       "       [ 0.20938504,  0.15017248],\n",
       "       [-0.47689368, -1.2090227 ],\n",
       "       [ 0.6015443 ,  2.00099143],\n",
       "       [-1.55533166, -1.49821316],\n",
       "       [-0.47689368, -0.54388463],\n",
       "       [ 0.50350449,  1.82747716],\n",
       "       [-1.35925203, -1.09334651],\n",
       "       [ 0.79762394, -1.38253697],\n",
       "       [-0.28081405, -0.42820845],\n",
       "       [ 1.58194247,  0.98882482],\n",
       "       [ 0.99370357,  1.42261051],\n",
       "       [-0.28081405, -0.48604654],\n",
       "       [-0.08473441,  2.14558666],\n",
       "       [-1.45729185, -0.11009894],\n",
       "       [-0.08473441,  1.94315334],\n",
       "       [-0.67297331, -0.34145131],\n",
       "       [-0.47689368, -0.8330751 ],\n",
       "       [ 0.69958412, -1.38253697],\n",
       "       [-0.77101313, -1.5849703 ],\n",
       "       [-1.84945111, -1.46929411],\n",
       "       [ 1.09174339,  0.12125343],\n",
       "       [ 0.11134522,  1.50936765],\n",
       "       [-0.28081405,  0.09233438],\n",
       "       [ 0.11134522,  0.03449629],\n",
       "       [-1.35925203, -1.35361793],\n",
       "       [ 0.30742485,  0.06341534],\n",
       "       [-0.86905295,  0.38152485],\n",
       "       [ 1.58194247, -1.26686079],\n",
       "       [-0.28081405, -0.74631796],\n",
       "       [-0.08473441,  0.15017248],\n",
       "       [-0.86905295, -0.65956082],\n",
       "       [-0.67297331, -0.05226085],\n",
       "       [ 0.40546467, -0.45712749],\n",
       "       [-0.77101313,  1.88531525],\n",
       "       [ 1.38586284,  1.27801528],\n",
       "       [ 1.1897832 , -0.97767033],\n",
       "       [ 1.7780221 ,  1.82747716],\n",
       "       [-0.86905295, -0.25469417],\n",
       "       [-0.77101313,  0.55503912],\n",
       "       [-1.1631724 , -1.55605125],\n",
       "       [-0.47689368, -1.12226556],\n",
       "       [ 0.30742485,  0.06341534],\n",
       "       [-0.18277423, -1.06442747],\n",
       "       [ 1.67998229,  1.59612479],\n",
       "       [ 0.99370357,  1.76963906],\n",
       "       [ 0.30742485,  0.03449629],\n",
       "       [-0.77101313, -0.22577513],\n",
       "       [-0.08473441,  0.06341534],\n",
       "       [ 0.30742485, -0.19685608],\n",
       "       [ 1.97410174, -0.65956082],\n",
       "       [-0.77101313,  1.33585337],\n",
       "       [-1.7514113 , -0.60172273],\n",
       "       [-0.08473441,  0.12125343],\n",
       "       [ 0.30742485, -0.31253226],\n",
       "       [ 1.09174339,  0.55503912],\n",
       "       [-0.96709276,  0.26584866],\n",
       "       [ 1.48390265,  0.3526058 ],\n",
       "       [ 0.20938504, -0.37037036],\n",
       "       [ 2.17018137, -1.03550842],\n",
       "       [-0.28081405,  1.104501  ],\n",
       "       [-1.65337148,  0.06341534],\n",
       "       [ 0.0133054 ,  0.03449629],\n",
       "       [ 0.11134522,  1.04666291],\n",
       "       [-0.08473441, -0.37037036],\n",
       "       [-1.1631724 ,  0.06341534],\n",
       "       [-0.28081405, -1.35361793],\n",
       "       [ 1.58194247,  1.104501  ],\n",
       "       [-0.77101313, -1.52713221],\n",
       "       [ 0.11134522,  1.8563962 ],\n",
       "       [-0.86905295, -0.775237  ],\n",
       "       [-0.47689368, -0.775237  ],\n",
       "       [-0.28081405, -0.91983223],\n",
       "       [ 0.30742485, -0.71739891],\n",
       "       [ 0.30742485,  0.06341534],\n",
       "       [ 0.11134522,  1.8563962 ],\n",
       "       [-1.06513258,  1.94315334],\n",
       "       [-1.65337148, -1.55605125],\n",
       "       [-1.1631724 , -1.09334651],\n",
       "       [-0.67297331, -0.11009894],\n",
       "       [ 0.11134522,  0.09233438],\n",
       "       [ 0.30742485,  0.26584866],\n",
       "       [ 0.89566375, -0.57280368],\n",
       "       [ 0.30742485, -1.1511846 ],\n",
       "       [-0.08473441,  0.67071531],\n",
       "       [ 2.17018137, -0.68847986],\n",
       "       [-1.26121221, -1.38253697],\n",
       "       [-0.96709276, -0.94875128],\n",
       "       [ 0.0133054 , -0.42820845],\n",
       "       [-0.18277423, -0.45712749],\n",
       "       [-1.7514113 , -0.97767033],\n",
       "       [ 1.7780221 ,  0.98882482],\n",
       "       [ 0.20938504, -0.37037036],\n",
       "       [ 0.40546467,  1.104501  ],\n",
       "       [-1.7514113 , -1.35361793],\n",
       "       [ 0.20938504, -0.13901799],\n",
       "       [ 0.89566375, -1.44037507],\n",
       "       [-1.94749093,  0.46828198],\n",
       "       [-0.28081405,  0.26584866],\n",
       "       [ 1.87606192, -1.06442747],\n",
       "       [-0.37885386,  0.06341534],\n",
       "       [ 1.09174339, -0.89091319],\n",
       "       [-1.06513258, -1.12226556],\n",
       "       [-1.84945111,  0.00557724],\n",
       "       [ 0.11134522,  0.26584866],\n",
       "       [-1.1631724 ,  0.32368675],\n",
       "       [-1.26121221,  0.29476771],\n",
       "       [-0.96709276,  0.43936294],\n",
       "       [ 1.67998229, -0.89091319],\n",
       "       [ 1.1897832 ,  0.52612008],\n",
       "       [ 1.09174339,  0.52612008],\n",
       "       [ 1.38586284,  2.31910094],\n",
       "       [-0.28081405, -0.13901799],\n",
       "       [ 0.40546467, -0.45712749],\n",
       "       [-0.37885386, -0.775237  ],\n",
       "       [-0.08473441, -0.51496559],\n",
       "       [ 0.99370357, -1.1511846 ],\n",
       "       [-0.86905295, -0.775237  ],\n",
       "       [-0.18277423, -0.51496559],\n",
       "       [-1.06513258, -0.45712749],\n",
       "       [-1.1631724 ,  1.39369146]])"
      ]
     },
     "execution_count": 17,
     "metadata": {},
     "output_type": "execute_result"
    }
   ],
   "source": [
    "X_train_scaled"
   ]
  },
  {
   "cell_type": "code",
   "execution_count": 18,
   "metadata": {
    "tags": []
   },
   "outputs": [],
   "source": [
    "X_train_scaled = pd.DataFrame(X_train_scaled, columns=X_train.columns)\n",
    "X_test_scaled = pd.DataFrame(X_test_scaled, columns=X_test.columns)"
   ]
  },
  {
   "cell_type": "code",
   "execution_count": 19,
   "metadata": {
    "tags": []
   },
   "outputs": [
    {
     "data": {
      "text/html": [
       "<div>\n",
       "<style scoped>\n",
       "    .dataframe tbody tr th:only-of-type {\n",
       "        vertical-align: middle;\n",
       "    }\n",
       "\n",
       "    .dataframe tbody tr th {\n",
       "        vertical-align: top;\n",
       "    }\n",
       "\n",
       "    .dataframe thead th {\n",
       "        text-align: right;\n",
       "    }\n",
       "</style>\n",
       "<table border=\"1\" class=\"dataframe\">\n",
       "  <thead>\n",
       "    <tr style=\"text-align: right;\">\n",
       "      <th></th>\n",
       "      <th>Age</th>\n",
       "      <th>EstimatedSalary</th>\n",
       "    </tr>\n",
       "  </thead>\n",
       "  <tbody>\n",
       "    <tr>\n",
       "      <th>count</th>\n",
       "      <td>280.0</td>\n",
       "      <td>280.0</td>\n",
       "    </tr>\n",
       "    <tr>\n",
       "      <th>mean</th>\n",
       "      <td>37.9</td>\n",
       "      <td>69807.1</td>\n",
       "    </tr>\n",
       "    <tr>\n",
       "      <th>std</th>\n",
       "      <td>10.2</td>\n",
       "      <td>34641.2</td>\n",
       "    </tr>\n",
       "    <tr>\n",
       "      <th>min</th>\n",
       "      <td>18.0</td>\n",
       "      <td>15000.0</td>\n",
       "    </tr>\n",
       "    <tr>\n",
       "      <th>25%</th>\n",
       "      <td>30.0</td>\n",
       "      <td>43000.0</td>\n",
       "    </tr>\n",
       "    <tr>\n",
       "      <th>50%</th>\n",
       "      <td>37.0</td>\n",
       "      <td>70500.0</td>\n",
       "    </tr>\n",
       "    <tr>\n",
       "      <th>75%</th>\n",
       "      <td>46.0</td>\n",
       "      <td>88000.0</td>\n",
       "    </tr>\n",
       "    <tr>\n",
       "      <th>max</th>\n",
       "      <td>60.0</td>\n",
       "      <td>150000.0</td>\n",
       "    </tr>\n",
       "  </tbody>\n",
       "</table>\n",
       "</div>"
      ],
      "text/plain": [
       "         Age  EstimatedSalary\n",
       "count  280.0            280.0\n",
       "mean    37.9          69807.1\n",
       "std     10.2          34641.2\n",
       "min     18.0          15000.0\n",
       "25%     30.0          43000.0\n",
       "50%     37.0          70500.0\n",
       "75%     46.0          88000.0\n",
       "max     60.0         150000.0"
      ]
     },
     "execution_count": 19,
     "metadata": {},
     "output_type": "execute_result"
    }
   ],
   "source": [
    "np.round(X_train.describe(), 1)"
   ]
  },
  {
   "cell_type": "code",
   "execution_count": 20,
   "metadata": {
    "tags": []
   },
   "outputs": [
    {
     "data": {
      "text/html": [
       "<div>\n",
       "<style scoped>\n",
       "    .dataframe tbody tr th:only-of-type {\n",
       "        vertical-align: middle;\n",
       "    }\n",
       "\n",
       "    .dataframe tbody tr th {\n",
       "        vertical-align: top;\n",
       "    }\n",
       "\n",
       "    .dataframe thead th {\n",
       "        text-align: right;\n",
       "    }\n",
       "</style>\n",
       "<table border=\"1\" class=\"dataframe\">\n",
       "  <thead>\n",
       "    <tr style=\"text-align: right;\">\n",
       "      <th></th>\n",
       "      <th>Age</th>\n",
       "      <th>EstimatedSalary</th>\n",
       "    </tr>\n",
       "  </thead>\n",
       "  <tbody>\n",
       "    <tr>\n",
       "      <th>count</th>\n",
       "      <td>280.0</td>\n",
       "      <td>280.0</td>\n",
       "    </tr>\n",
       "    <tr>\n",
       "      <th>mean</th>\n",
       "      <td>0.0</td>\n",
       "      <td>0.0</td>\n",
       "    </tr>\n",
       "    <tr>\n",
       "      <th>std</th>\n",
       "      <td>1.0</td>\n",
       "      <td>1.0</td>\n",
       "    </tr>\n",
       "    <tr>\n",
       "      <th>min</th>\n",
       "      <td>-1.9</td>\n",
       "      <td>-1.6</td>\n",
       "    </tr>\n",
       "    <tr>\n",
       "      <th>25%</th>\n",
       "      <td>-0.8</td>\n",
       "      <td>-0.8</td>\n",
       "    </tr>\n",
       "    <tr>\n",
       "      <th>50%</th>\n",
       "      <td>-0.1</td>\n",
       "      <td>0.0</td>\n",
       "    </tr>\n",
       "    <tr>\n",
       "      <th>75%</th>\n",
       "      <td>0.8</td>\n",
       "      <td>0.5</td>\n",
       "    </tr>\n",
       "    <tr>\n",
       "      <th>max</th>\n",
       "      <td>2.2</td>\n",
       "      <td>2.3</td>\n",
       "    </tr>\n",
       "  </tbody>\n",
       "</table>\n",
       "</div>"
      ],
      "text/plain": [
       "         Age  EstimatedSalary\n",
       "count  280.0            280.0\n",
       "mean     0.0              0.0\n",
       "std      1.0              1.0\n",
       "min     -1.9             -1.6\n",
       "25%     -0.8             -0.8\n",
       "50%     -0.1              0.0\n",
       "75%      0.8              0.5\n",
       "max      2.2              2.3"
      ]
     },
     "execution_count": 20,
     "metadata": {},
     "output_type": "execute_result"
    }
   ],
   "source": [
    "np.round(X_train_scaled.describe(), 1)"
   ]
  },
  {
   "cell_type": "markdown",
   "metadata": {},
   "source": [
    "# Effect of Scaling"
   ]
  },
  {
   "cell_type": "code",
   "execution_count": 21,
   "metadata": {
    "tags": []
   },
   "outputs": [
    {
     "data": {
      "image/png": "[encoded data removed]",
      "text/plain": [
       "<Figure size 1200x500 with 2 Axes>"
      ]
     },
     "metadata": {},
     "output_type": "display_data"
    }
   ],
   "source": [
    "fig, (ax1, ax2) = plt.subplots(ncols=2, figsize=(12, 5))\n",
    "\n",
    "ax1.scatter(X_train['Age'], X_train['EstimatedSalary'])\n",
    "ax1.set_title(\"Before Scaling\")\n",
    "ax2.scatter(X_train_scaled['Age'], X_train_scaled['EstimatedSalary'],color='red')\n",
    "ax2.set_title(\"After Scaling\")\n",
    "plt.show()"
   ]
  },
  {
   "cell_type": "code",
   "execution_count": 12,
   "metadata": {},
   "outputs": [
    {
     "data": {
      "image/png": "[encoded data removed]",
      "text/plain": [
       "<Figure size 864x360 with 2 Axes>"
      ]
     },
     "metadata": {
      "needs_background": "light"
     },
     "output_type": "display_data"
    }
   ],
   "source": [
    "fig, (ax1, ax2) = plt.subplots(ncols=2, figsize=(12, 5))\n",
    "\n",
    "# before scaling\n",
    "ax1.set_title('Before Scaling')\n",
    "sns.kdeplot(X_train['Age'], ax=ax1)\n",
    "sns.kdeplot(X_train['EstimatedSalary'], ax=ax1)\n",
    "\n",
    "# after scaling\n",
    "ax2.set_title('After Standard Scaling')\n",
    "sns.kdeplot(X_train_scaled['Age'], ax=ax2)\n",
    "sns.kdeplot(X_train_scaled['EstimatedSalary'], ax=ax2)\n",
    "plt.show()"
   ]
  },
  {
   "cell_type": "markdown",
   "metadata": {},
   "source": [
    "# Comparison of Distributions"
   ]
  },
  {
   "cell_type": "code",
   "execution_count": 13,
   "metadata": {},
   "outputs": [
    {
     "data": {
      "image/png": "[encoded data removed]",
      "text/plain": [
       "<Figure size 864x360 with 2 Axes>"
      ]
     },
     "metadata": {
      "needs_background": "light"
     },
     "output_type": "display_data"
    }
   ],
   "source": [
    "fig, (ax1, ax2) = plt.subplots(ncols=2, figsize=(12, 5))\n",
    "\n",
    "# before scaling\n",
    "ax1.set_title('Age Distribution Before Scaling')\n",
    "sns.kdeplot(X_train['Age'], ax=ax1)\n",
    "\n",
    "# after scaling\n",
    "ax2.set_title('Age Distribution After Standard Scaling')\n",
    "sns.kdeplot(X_train_scaled['Age'], ax=ax2)\n",
    "plt.show()"
   ]
  },
  {
   "cell_type": "code",
   "execution_count": 14,
   "metadata": {},
   "outputs": [
    {
     "data": {
      "image/png": "[encoded data removed]",
      "text/plain": [
       "<Figure size 864x360 with 2 Axes>"
      ]
     },
     "metadata": {
      "needs_background": "light"
     },
     "output_type": "display_data"
    }
   ],
   "source": [
    "fig, (ax1, ax2) = plt.subplots(ncols=2, figsize=(12, 5))\n",
    "\n",
    "# before scaling\n",
    "ax1.set_title('Salary Distribution Before Scaling')\n",
    "sns.kdeplot(X_train['EstimatedSalary'], ax=ax1)\n",
    "\n",
    "# after scaling\n",
    "ax2.set_title('Salary Distribution Standard Scaling')\n",
    "sns.kdeplot(X_train_scaled['EstimatedSalary'], ax=ax2)\n",
    "plt.show()"
   ]
  },
  {
   "cell_type": "markdown",
   "metadata": {},
   "source": [
    "# Why scaling is important?"
   ]
  },
  {
   "cell_type": "code",
   "execution_count": 15,
   "metadata": {},
   "outputs": [],
   "source": [
    "from sklearn.linear_model import LogisticRegression"
   ]
  },
  {
   "cell_type": "code",
   "execution_count": 17,
   "metadata": {},
   "outputs": [],
   "source": [
    "lr = LogisticRegression()\n",
    "lr_scaled = LogisticRegression()"
   ]
  },
  {
   "cell_type": "code",
   "execution_count": 18,
   "metadata": {},
   "outputs": [
    {
     "data": {
      "text/plain": [
       "LogisticRegression()"
      ]
     },
     "execution_count": 18,
     "metadata": {},
     "output_type": "execute_result"
    }
   ],
   "source": [
    "lr.fit(X_train,y_train)\n",
    "lr_scaled.fit(X_train_scaled,y_train)"
   ]
  },
  {
   "cell_type": "code",
   "execution_count": 20,
   "metadata": {},
   "outputs": [],
   "source": [
    "y_pred = lr.predict(X_test)\n",
    "y_pred_scaled = lr_scaled.predict(X_test_scaled)"
   ]
  },
  {
   "cell_type": "code",
   "execution_count": 21,
   "metadata": {},
   "outputs": [],
   "source": [
    "from sklearn.metrics import accuracy_score"
   ]
  },
  {
   "cell_type": "code",
   "execution_count": 22,
   "metadata": {},
   "outputs": [
    {
     "name": "stdout",
     "output_type": "stream",
     "text": [
      "Actual 0.6583333333333333\n",
      "Scaled 0.8666666666666667\n"
     ]
    }
   ],
   "source": [
    "print(\"Actual\",accuracy_score(y_test,y_pred))\n",
    "print(\"Scaled\",accuracy_score(y_test,y_pred_scaled))"
   ]
  },
  {
   "cell_type": "code",
   "execution_count": 23,
   "metadata": {},
   "outputs": [],
   "source": [
    "from sklearn.tree import DecisionTreeClassifier"
   ]
  },
  {
   "cell_type": "code",
   "execution_count": 24,
   "metadata": {},
   "outputs": [],
   "source": [
    "dt = DecisionTreeClassifier()\n",
    "dt_scaled = DecisionTreeClassifier()"
   ]
  },
  {
   "cell_type": "code",
   "execution_count": 25,
   "metadata": {},
   "outputs": [
    {
     "data": {
      "text/plain": [
       "DecisionTreeClassifier()"
      ]
     },
     "execution_count": 25,
     "metadata": {},
     "output_type": "execute_result"
    }
   ],
   "source": [
    "dt.fit(X_train,y_train)\n",
    "dt_scaled.fit(X_train_scaled,y_train)"
   ]
  },
  {
   "cell_type": "code",
   "execution_count": 26,
   "metadata": {},
   "outputs": [],
   "source": [
    "y_pred = dt.predict(X_test)\n",
    "y_pred_scaled = dt_scaled.predict(X_test_scaled)"
   ]
  },
  {
   "cell_type": "code",
   "execution_count": 27,
   "metadata": {},
   "outputs": [
    {
     "name": "stdout",
     "output_type": "stream",
     "text": [
      "Actual 0.875\n",
      "Scaled 0.875\n"
     ]
    }
   ],
   "source": [
    "print(\"Actual\",accuracy_score(y_test,y_pred))\n",
    "print(\"Scaled\",accuracy_score(y_test,y_pred_scaled))"
   ]
  },
  {
   "cell_type": "code",
   "execution_count": 29,
   "metadata": {},
   "outputs": [
    {
     "data": {
      "text/html": [
       "<div>\n",
       "<style scoped>\n",
       "    .dataframe tbody tr th:only-of-type {\n",
       "        vertical-align: middle;\n",
       "    }\n",
       "\n",
       "    .dataframe tbody tr th {\n",
       "        vertical-align: top;\n",
       "    }\n",
       "\n",
       "    .dataframe thead th {\n",
       "        text-align: right;\n",
       "    }\n",
       "</style>\n",
       "<table border=\"1\" class=\"dataframe\">\n",
       "  <thead>\n",
       "    <tr style=\"text-align: right;\">\n",
       "      <th></th>\n",
       "      <th>Age</th>\n",
       "      <th>EstimatedSalary</th>\n",
       "      <th>Purchased</th>\n",
       "    </tr>\n",
       "  </thead>\n",
       "  <tbody>\n",
       "    <tr>\n",
       "      <th>count</th>\n",
       "      <td>400.000000</td>\n",
       "      <td>400.000000</td>\n",
       "      <td>400.000000</td>\n",
       "    </tr>\n",
       "    <tr>\n",
       "      <th>mean</th>\n",
       "      <td>37.655000</td>\n",
       "      <td>69742.500000</td>\n",
       "      <td>0.357500</td>\n",
       "    </tr>\n",
       "    <tr>\n",
       "      <th>std</th>\n",
       "      <td>10.482877</td>\n",
       "      <td>34096.960282</td>\n",
       "      <td>0.479864</td>\n",
       "    </tr>\n",
       "    <tr>\n",
       "      <th>min</th>\n",
       "      <td>18.000000</td>\n",
       "      <td>15000.000000</td>\n",
       "      <td>0.000000</td>\n",
       "    </tr>\n",
       "    <tr>\n",
       "      <th>25%</th>\n",
       "      <td>29.750000</td>\n",
       "      <td>43000.000000</td>\n",
       "      <td>0.000000</td>\n",
       "    </tr>\n",
       "    <tr>\n",
       "      <th>50%</th>\n",
       "      <td>37.000000</td>\n",
       "      <td>70000.000000</td>\n",
       "      <td>0.000000</td>\n",
       "    </tr>\n",
       "    <tr>\n",
       "      <th>75%</th>\n",
       "      <td>46.000000</td>\n",
       "      <td>88000.000000</td>\n",
       "      <td>1.000000</td>\n",
       "    </tr>\n",
       "    <tr>\n",
       "      <th>max</th>\n",
       "      <td>60.000000</td>\n",
       "      <td>150000.000000</td>\n",
       "      <td>1.000000</td>\n",
       "    </tr>\n",
       "  </tbody>\n",
       "</table>\n",
       "</div>"
      ],
      "text/plain": [
       "              Age  EstimatedSalary   Purchased\n",
       "count  400.000000       400.000000  400.000000\n",
       "mean    37.655000     69742.500000    0.357500\n",
       "std     10.482877     34096.960282    0.479864\n",
       "min     18.000000     15000.000000    0.000000\n",
       "25%     29.750000     43000.000000    0.000000\n",
       "50%     37.000000     70000.000000    0.000000\n",
       "75%     46.000000     88000.000000    1.000000\n",
       "max     60.000000    150000.000000    1.000000"
      ]
     },
     "execution_count": 29,
     "metadata": {},
     "output_type": "execute_result"
    }
   ],
   "source": [
    "df.describe()"
   ]
  },
  {
   "cell_type": "markdown",
   "metadata": {},
   "source": [
    "# Effect of Outlier"
   ]
  },
  {
   "cell_type": "code",
   "execution_count": 34,
   "metadata": {},
   "outputs": [],
   "source": [
    "df = df.append(pd.DataFrame({'Age':[5,90,95],'EstimatedSalary':[1000,250000,350000],'Purchased':[0,1,1]}),ignore_index=True)"
   ]
  },
  {
   "cell_type": "code",
   "execution_count": 32,
   "metadata": {},
   "outputs": [
    {
     "data": {
      "text/html": [
       "<div>\n",
       "<style scoped>\n",
       "    .dataframe tbody tr th:only-of-type {\n",
       "        vertical-align: middle;\n",
       "    }\n",
       "\n",
       "    .dataframe tbody tr th {\n",
       "        vertical-align: top;\n",
       "    }\n",
       "\n",
       "    .dataframe thead th {\n",
       "        text-align: right;\n",
       "    }\n",
       "</style>\n",
       "<table border=\"1\" class=\"dataframe\">\n",
       "  <thead>\n",
       "    <tr style=\"text-align: right;\">\n",
       "      <th></th>\n",
       "      <th>Age</th>\n",
       "      <th>EstimatedSalary</th>\n",
       "      <th>Purchased</th>\n",
       "    </tr>\n",
       "  </thead>\n",
       "  <tbody>\n",
       "    <tr>\n",
       "      <th>0</th>\n",
       "      <td>19</td>\n",
       "      <td>19000</td>\n",
       "      <td>0</td>\n",
       "    </tr>\n",
       "    <tr>\n",
       "      <th>1</th>\n",
       "      <td>35</td>\n",
       "      <td>20000</td>\n",
       "      <td>0</td>\n",
       "    </tr>\n",
       "    <tr>\n",
       "      <th>2</th>\n",
       "      <td>26</td>\n",
       "      <td>43000</td>\n",
       "      <td>0</td>\n",
       "    </tr>\n",
       "    <tr>\n",
       "      <th>3</th>\n",
       "      <td>27</td>\n",
       "      <td>57000</td>\n",
       "      <td>0</td>\n",
       "    </tr>\n",
       "    <tr>\n",
       "      <th>4</th>\n",
       "      <td>19</td>\n",
       "      <td>76000</td>\n",
       "      <td>0</td>\n",
       "    </tr>\n",
       "    <tr>\n",
       "      <th>...</th>\n",
       "      <td>...</td>\n",
       "      <td>...</td>\n",
       "      <td>...</td>\n",
       "    </tr>\n",
       "    <tr>\n",
       "      <th>395</th>\n",
       "      <td>46</td>\n",
       "      <td>41000</td>\n",
       "      <td>1</td>\n",
       "    </tr>\n",
       "    <tr>\n",
       "      <th>396</th>\n",
       "      <td>51</td>\n",
       "      <td>23000</td>\n",
       "      <td>1</td>\n",
       "    </tr>\n",
       "    <tr>\n",
       "      <th>397</th>\n",
       "      <td>50</td>\n",
       "      <td>20000</td>\n",
       "      <td>1</td>\n",
       "    </tr>\n",
       "    <tr>\n",
       "      <th>398</th>\n",
       "      <td>36</td>\n",
       "      <td>33000</td>\n",
       "      <td>0</td>\n",
       "    </tr>\n",
       "    <tr>\n",
       "      <th>399</th>\n",
       "      <td>49</td>\n",
       "      <td>36000</td>\n",
       "      <td>1</td>\n",
       "    </tr>\n",
       "  </tbody>\n",
       "</table>\n",
       "<p>400 rows × 3 columns</p>\n",
       "</div>"
      ],
      "text/plain": [
       "     Age  EstimatedSalary  Purchased\n",
       "0     19            19000          0\n",
       "1     35            20000          0\n",
       "2     26            43000          0\n",
       "3     27            57000          0\n",
       "4     19            76000          0\n",
       "..   ...              ...        ...\n",
       "395   46            41000          1\n",
       "396   51            23000          1\n",
       "397   50            20000          1\n",
       "398   36            33000          0\n",
       "399   49            36000          1\n",
       "\n",
       "[400 rows x 3 columns]"
      ]
     },
     "execution_count": 32,
     "metadata": {},
     "output_type": "execute_result"
    }
   ],
   "source": [
    "df"
   ]
  },
  {
   "cell_type": "code",
   "execution_count": 36,
   "metadata": {},
   "outputs": [
    {
     "data": {
      "text/plain": [
       "<matplotlib.collections.PathCollection at 0x1d6823eba00>"
      ]
     },
     "execution_count": 36,
     "metadata": {},
     "output_type": "execute_result"
    },
    {
     "data": {
      "image/png": "[encoded data removed]",
      "text/plain": [
       "<Figure size 432x288 with 1 Axes>"
      ]
     },
     "metadata": {
      "needs_background": "light"
     },
     "output_type": "display_data"
    }
   ],
   "source": [
    "plt.scatter(df['Age'], df['EstimatedSalary'])"
   ]
  },
  {
   "cell_type": "code",
   "execution_count": 37,
   "metadata": {},
   "outputs": [
    {
     "data": {
      "text/plain": [
       "((282, 2), (121, 2))"
      ]
     },
     "execution_count": 37,
     "metadata": {},
     "output_type": "execute_result"
    }
   ],
   "source": [
    "from sklearn.model_selection import train_test_split\n",
    "X_train, X_test, y_train, y_test = train_test_split(df.drop('Purchased', axis=1),\n",
    "                                                    df['Purchased'],\n",
    "                                                    test_size=0.3,\n",
    "                                                    random_state=0)\n",
    "\n",
    "X_train.shape, X_test.shape"
   ]
  },
  {
   "cell_type": "code",
   "execution_count": 38,
   "metadata": {},
   "outputs": [],
   "source": [
    "from sklearn.preprocessing import StandardScaler\n",
    "\n",
    "scaler = StandardScaler()\n",
    "\n",
    "# fit the scaler to the train set, it will learn the parameters\n",
    "scaler.fit(X_train)\n",
    "\n",
    "# transform train and test sets\n",
    "X_train_scaled = scaler.transform(X_train)\n",
    "X_test_scaled = scaler.transform(X_test)"
   ]
  },
  {
   "cell_type": "code",
   "execution_count": 40,
   "metadata": {},
   "outputs": [],
   "source": [
    "X_train_scaled = pd.DataFrame(X_train_scaled, columns=X_train.columns)\n",
    "X_test_scaled = pd.DataFrame(X_test_scaled, columns=X_test.columns)"
   ]
  },
  {
   "cell_type": "code",
   "execution_count": 41,
   "metadata": {},
   "outputs": [
    {
     "data": {
      "image/png": "[encoded data removed]",
      "text/plain": [
       "<Figure size 864x360 with 2 Axes>"
      ]
     },
     "metadata": {
      "needs_background": "light"
     },
     "output_type": "display_data"
    }
   ],
   "source": [
    "fig, (ax1, ax2) = plt.subplots(ncols=2, figsize=(12, 5))\n",
    "\n",
    "ax1.scatter(X_train['Age'], X_train['EstimatedSalary'])\n",
    "ax1.set_title(\"Before Scaling\")\n",
    "ax2.scatter(X_train_scaled['Age'], X_train_scaled['EstimatedSalary'],color='red')\n",
    "ax2.set_title(\"After Scaling\")\n",
    "plt.show()"
   ]
  },
  {
   "cell_type": "code",
   "execution_count": null,
   "metadata": {},
   "outputs": [],
   "source": []
  }
 ],
 "metadata": {
  "kernelspec": {
   "display_name": "Python 3 (ipykernel)",
   "language": "python",
   "name": "python3"
  },
  "language_info": {
   "codemirror_mode": {
    "name": "ipython",
    "version": 3
   },
   "file_extension": ".py",
   "mimetype": "text/x-python",
   "name": "python",
   "nbconvert_exporter": "python",
   "pygments_lexer": "ipython3",
   "version": "3.11.4"
  }
 },
 "nbformat": 4,
 "nbformat_minor": 4
}
