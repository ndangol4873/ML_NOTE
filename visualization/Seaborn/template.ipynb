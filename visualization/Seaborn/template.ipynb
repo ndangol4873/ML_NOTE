{
 "cells": [
  {
   "cell_type": "markdown",
   "metadata": {},
   "source": [
    "### Why Seaborn?\n",
    "\n",
    "- provides a layer of abstraction hence simpler to use\n",
    "- better aesthetics\n",
    "- more graphs included"
   ]
  },
  {
   "cell_type": "markdown",
   "metadata": {},
   "source": [
    "### Seaborn Roadmap\n",
    "\n",
    "Types of Functions\n",
    "\n",
    "- Figure Level\n",
    "- Axis Level\n",
    "\n",
    "Main Classification\n",
    "\n",
    "- Relational Plot\n",
    "- Distribution Plot\n",
    "- Categorical Plot\n",
    "- Regression Plot\n",
    "- Matrix Plot\n",
    "- Multiplots\n",
    "\n",
    "https://seaborn.pydata.org/api.html"
   ]
  },
  {
   "cell_type": "code",
   "execution_count": null,
   "metadata": {},
   "outputs": [],
   "source": []
  },
  {
   "cell_type": "code",
   "execution_count": null,
   "metadata": {},
   "outputs": [],
   "source": []
  },
  {
   "cell_type": "code",
   "execution_count": null,
   "metadata": {},
   "outputs": [],
   "source": []
  },
  {
   "cell_type": "code",
   "execution_count": null,
   "metadata": {},
   "outputs": [],
   "source": []
  },
  {
   "cell_type": "code",
   "execution_count": null,
   "metadata": {},
   "outputs": [],
   "source": []
  },
  {
   "cell_type": "code",
   "execution_count": null,
   "metadata": {},
   "outputs": [],
   "source": []
  }
 ],
 "metadata": {
  "kernelspec": {
   "display_name": "ds_generic",
   "language": "python",
   "name": "python3"
  },
  "language_info": {
   "name": "python",
   "version": "3.9.20"
  }
 },
 "nbformat": 4,
 "nbformat_minor": 2
}
