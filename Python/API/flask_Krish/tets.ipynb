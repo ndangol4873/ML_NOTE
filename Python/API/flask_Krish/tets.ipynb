{
 "cells": [
  {
   "cell_type": "code",
   "execution_count": null,
   "metadata": {
    "vscode": {
     "languageId": "plaintext"
    }
   },
   "outputs": [],
   "source": [
    " try:\n",
    "        if int (score) >= 50:\n",
    "            return \"The person has passed and score is: \" + score\n",
    "        else:\n",
    "            return \"The person has not passed and score is: \" + score\n",
    "    except ValueError:\n",
    "        print(\"Value Error: Please Check you input data type\")"
   ]
  }
 ],
 "metadata": {
  "language_info": {
   "name": "python"
  }
 },
 "nbformat": 4,
 "nbformat_minor": 2
}
