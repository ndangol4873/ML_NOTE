{
 "cells": [
  {
   "cell_type": "code",
   "execution_count": 1,
   "id": "1a838467",
   "metadata": {},
   "outputs": [],
   "source": [
    "import pandas as pd\n",
    "from fastapi import FastAPI"
   ]
  },
  {
   "cell_type": "code",
   "execution_count": 2,
   "id": "c838c425",
   "metadata": {},
   "outputs": [],
   "source": [
    "data = {\"P001\": {\"name\": \"Ananya Sharma\", \"city\": \"Guwahati\", \"age\": 28, \"gender\": \"female\", \"height\": 1.65, \"weight\": 90.0, \"bmi\": 33.06, \"verdict\": \"Obese\"}, \"P002\": {\"name\": \"Ravi Mehta\", \"city\": \"Mumbai\", \"age\": 35, \"gender\": \"male\", \"height\": 1.75, \"weight\": 85, \"bmi\": 27.76, \"verdict\": \"Overweight\"}, \"P003\": {\"name\": \"Sneha Kulkarni\", \"city\": \"Pune\", \"age\": 22, \"gender\": \"female\", \"height\": 1.6, \"weight\": 45, \"bmi\": 17.58, \"verdict\": \"Underweight\"}, \"P004\": {\"name\": \"Arjun Verma\", \"city\": \"Bangalore\", \"age\": 40, \"gender\": \"male\", \"height\": 1.8, \"weight\": 95, \"bmi\": 29.32, \"verdict\": \"Overweight\"}, \"P005\": {\"name\": \"Neha Sinha\", \"city\": \"Kolkata\", \"age\": 30, \"gender\": \"female\", \"height\": 1.55, \"weight\": 75, \"bmi\": 31.22, \"verdict\": \"Obese\"}}"
   ]
  },
  {
   "cell_type": "code",
   "execution_count": 3,
   "id": "68258ffc",
   "metadata": {},
   "outputs": [
    {
     "data": {
      "text/plain": [
       "{'P001': {'name': 'Ananya Sharma',\n",
       "  'city': 'Guwahati',\n",
       "  'age': 28,\n",
       "  'gender': 'female',\n",
       "  'height': 1.65,\n",
       "  'weight': 90.0,\n",
       "  'bmi': 33.06,\n",
       "  'verdict': 'Obese'},\n",
       " 'P002': {'name': 'Ravi Mehta',\n",
       "  'city': 'Mumbai',\n",
       "  'age': 35,\n",
       "  'gender': 'male',\n",
       "  'height': 1.75,\n",
       "  'weight': 85,\n",
       "  'bmi': 27.76,\n",
       "  'verdict': 'Overweight'},\n",
       " 'P003': {'name': 'Sneha Kulkarni',\n",
       "  'city': 'Pune',\n",
       "  'age': 22,\n",
       "  'gender': 'female',\n",
       "  'height': 1.6,\n",
       "  'weight': 45,\n",
       "  'bmi': 17.58,\n",
       "  'verdict': 'Underweight'},\n",
       " 'P004': {'name': 'Arjun Verma',\n",
       "  'city': 'Bangalore',\n",
       "  'age': 40,\n",
       "  'gender': 'male',\n",
       "  'height': 1.8,\n",
       "  'weight': 95,\n",
       "  'bmi': 29.32,\n",
       "  'verdict': 'Overweight'},\n",
       " 'P005': {'name': 'Neha Sinha',\n",
       "  'city': 'Kolkata',\n",
       "  'age': 30,\n",
       "  'gender': 'female',\n",
       "  'height': 1.55,\n",
       "  'weight': 75,\n",
       "  'bmi': 31.22,\n",
       "  'verdict': 'Obese'}}"
      ]
     },
     "execution_count": 3,
     "metadata": {},
     "output_type": "execute_result"
    }
   ],
   "source": [
    "data"
   ]
  },
  {
   "cell_type": "code",
   "execution_count": 4,
   "id": "934bfd22",
   "metadata": {},
   "outputs": [
    {
     "data": {
      "text/plain": [
       "[{'name': 'Arjun Verma',\n",
       "  'city': 'Bangalore',\n",
       "  'age': 40,\n",
       "  'gender': 'male',\n",
       "  'height': 1.8,\n",
       "  'weight': 95,\n",
       "  'bmi': 29.32,\n",
       "  'verdict': 'Overweight'},\n",
       " {'name': 'Ravi Mehta',\n",
       "  'city': 'Mumbai',\n",
       "  'age': 35,\n",
       "  'gender': 'male',\n",
       "  'height': 1.75,\n",
       "  'weight': 85,\n",
       "  'bmi': 27.76,\n",
       "  'verdict': 'Overweight'},\n",
       " {'name': 'Ananya Sharma',\n",
       "  'city': 'Guwahati',\n",
       "  'age': 28,\n",
       "  'gender': 'female',\n",
       "  'height': 1.65,\n",
       "  'weight': 90.0,\n",
       "  'bmi': 33.06,\n",
       "  'verdict': 'Obese'},\n",
       " {'name': 'Sneha Kulkarni',\n",
       "  'city': 'Pune',\n",
       "  'age': 22,\n",
       "  'gender': 'female',\n",
       "  'height': 1.6,\n",
       "  'weight': 45,\n",
       "  'bmi': 17.58,\n",
       "  'verdict': 'Underweight'},\n",
       " {'name': 'Neha Sinha',\n",
       "  'city': 'Kolkata',\n",
       "  'age': 30,\n",
       "  'gender': 'female',\n",
       "  'height': 1.55,\n",
       "  'weight': 75,\n",
       "  'bmi': 31.22,\n",
       "  'verdict': 'Obese'}]"
      ]
     },
     "execution_count": 4,
     "metadata": {},
     "output_type": "execute_result"
    }
   ],
   "source": [
    "sorted (data.values(), key= lambda x: x.get('height',0), reverse = True)"
   ]
  },
  {
   "cell_type": "code",
   "execution_count": null,
   "id": "d2e63d46",
   "metadata": {},
   "outputs": [],
   "source": []
  },
  {
   "cell_type": "code",
   "execution_count": null,
   "id": "145d7eff",
   "metadata": {},
   "outputs": [],
   "source": []
  },
  {
   "cell_type": "code",
   "execution_count": null,
   "id": "4672666c",
   "metadata": {},
   "outputs": [],
   "source": []
  },
  {
   "cell_type": "code",
   "execution_count": null,
   "id": "388ff4b7",
   "metadata": {},
   "outputs": [],
   "source": []
  }
 ],
 "metadata": {
  "kernelspec": {
   "display_name": "ds_generic",
   "language": "python",
   "name": "python3"
  },
  "language_info": {
   "codemirror_mode": {
    "name": "ipython",
    "version": 3
   },
   "file_extension": ".py",
   "mimetype": "text/x-python",
   "name": "python",
   "nbconvert_exporter": "python",
   "pygments_lexer": "ipython3",
   "version": "3.9.20"
  }
 },
 "nbformat": 4,
 "nbformat_minor": 5
}
