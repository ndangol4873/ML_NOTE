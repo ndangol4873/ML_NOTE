{
 "cells": [
  {
   "cell_type": "markdown",
   "metadata": {},
   "source": [
    "### Class Relationships\n",
    "\n",
    "- Aggregation\n",
    "- Inheritance"
   ]
  },
  {
   "cell_type": "markdown",
   "metadata": {},
   "source": [
    "### Aggregation(Has-A relationship)"
   ]
  },
  {
   "cell_type": "code",
   "execution_count": 1,
   "metadata": {},
   "outputs": [
    {
     "name": "stdout",
     "output_type": "stream",
     "text": [
      "Woodbridge Virginia 22192\n",
      "My Name is Naresh, i am 'M'\n",
      "My address is Woodbridge, Virginia, 22192\n",
      "\n",
      "Lakeridge VA 22191\n",
      "My Name is GT, i am 'M'\n",
      "My address is Lakeridge, VA, 22191\n",
      "\n"
     ]
    }
   ],
   "source": [
    "## Aggregation has relation ship \n",
    "\n",
    "class Customer:\n",
    "\n",
    "    def __init__(self, name, gender, address):\n",
    "        self.name = name\n",
    "        self.gender = gender\n",
    "        self.address = address\n",
    "\n",
    "    def print_address(self):\n",
    "        print(self.address.get_city(), self.address.state, self.address.zip)\n",
    "\n",
    "    def edit_profile(self,new_name, new_city, new_state, new_zip):\n",
    "        self.name = new_name\n",
    "        self.address.edit_address(new_city, new_state, new_zip)\n",
    "        \n",
    "    def print_profile(self):\n",
    "        print(f\"My Name is {self.name}, i am '{self.gender}'\\nMy address is {self.address.get_city()}, {self.address.state}, {self.address.zip}\\n\")\n",
    "    \n",
    "\n",
    "class Address:\n",
    "    def __init__(self, city, state, zip):\n",
    "        self.__city = city ## Assigning Private Attribute\n",
    "        self.state = state\n",
    "        self.zip = zip\n",
    "\n",
    "    ## Getter Function for Private Attribute \"__city\"\n",
    "    def get_city(self):\n",
    "        return self.__city\n",
    "    \n",
    "    def edit_address(self,new_city, new_state, new_zip):\n",
    "        self.__city = new_city\n",
    "        self.state = new_state\n",
    "        self.zip = new_zip\n",
    "\n",
    "add1 = Address('Woodbridge', 'Virginia', 22192)\n",
    "cust = Customer('Naresh', 'M', add1)\n",
    "cust.print_address()\n",
    "cust.print_profile()\n",
    "\n",
    "cust.edit_profile('GT', 'Lakeridge', 'VA', 22191)\n",
    "cust.print_address()\n",
    "cust.print_profile()"
   ]
  },
  {
   "cell_type": "code",
   "execution_count": null,
   "metadata": {},
   "outputs": [],
   "source": []
  },
  {
   "cell_type": "markdown",
   "metadata": {},
   "source": [
    "### Inheritance\n",
    "\n",
    "- What is inheritance\n",
    "- Example\n",
    "- What gets inherited?"
   ]
  },
  {
   "cell_type": "code",
   "execution_count": 2,
   "metadata": {},
   "outputs": [
    {
     "name": "stdout",
     "output_type": "stream",
     "text": [
      "Naresh\n",
      "M\n"
     ]
    }
   ],
   "source": [
    "##Parent\n",
    "class User:\n",
    "    def __init__(self):\n",
    "        self.name = 'Naresh'\n",
    "        self.gender = 'M'\n",
    "    def login(self):\n",
    "        print('login')\n",
    "\n",
    "## Child\n",
    "class Student(User):\n",
    "    \n",
    "       \n",
    "\n",
    "    def enroll(self):\n",
    "        print('enroll into the course')\n",
    "\n",
    "u = User()\n",
    "s = Student()  \n",
    "\n",
    "print(s.name)\n",
    "print(s.gender)"
   ]
  },
  {
   "cell_type": "code",
   "execution_count": null,
   "metadata": {},
   "outputs": [],
   "source": []
  },
  {
   "cell_type": "markdown",
   "metadata": {},
   "source": [
    "##### What gets inherited?\n",
    "\n",
    "- Constructor\n",
    "- Non Private Attributes\n",
    "- Non Private Methods"
   ]
  },
  {
   "cell_type": "code",
   "execution_count": 3,
   "metadata": {},
   "outputs": [
    {
     "name": "stdout",
     "output_type": "stream",
     "text": [
      "Inside Phone Constructor\n",
      "This is buy method\n"
     ]
    }
   ],
   "source": [
    "# Constructor Example 1 where is explains: If a child class do not have the constructor then the Parent class constructor gets executed.\n",
    "\n",
    "class Phone:\n",
    "\n",
    "    def __init__(self, price, brand, camera):\n",
    "        self.__price = price\n",
    "        self.__brand = brand\n",
    "        self.__camera = camera\n",
    "        print(\"Inside Phone Constructor\")\n",
    "    \n",
    "    ## Getter methods\n",
    "    def get_price(self):\n",
    "        return self.__price\n",
    "    \n",
    "    def get_brand(self):\n",
    "        return self.__brand\n",
    "    \n",
    "    def get_camera(self):\n",
    "        return self.__camera\n",
    "\n",
    "    def buy(self):\n",
    "        print(\"This is buy method\")\n",
    "\n",
    "\n",
    "class SmartPhone(Phone):\n",
    "    pass\n",
    "\n",
    "\n",
    "s = SmartPhone(2000,\"Apple\", 13)\n",
    "s.buy()"
   ]
  },
  {
   "cell_type": "code",
   "execution_count": 4,
   "metadata": {},
   "outputs": [
    {
     "name": "stdout",
     "output_type": "stream",
     "text": [
      "This is SmartPhone constructor\n"
     ]
    },
    {
     "data": {
      "text/plain": [
       "'Buying a SmartPhone'"
      ]
     },
     "execution_count": 4,
     "metadata": {},
     "output_type": "execute_result"
    }
   ],
   "source": [
    "# Constructor Example 2 where is explains: If a child class have the constructor then the child class constructor gets executed\n",
    "\n",
    "class Phone:\n",
    "    def __init__(self, price, brand, camera):\n",
    "        self.__price = price\n",
    "        self.__brand = brand\n",
    "        self.__camera = camera\n",
    "        print(\"Inside Phone Constructor\")\n",
    "    \n",
    "    ## Getter methods\n",
    "    def get_price(self):\n",
    "        return self.__price\n",
    "    \n",
    "    def get_brand(self):\n",
    "        return self.__brand\n",
    "    \n",
    "    def get_camera(self):\n",
    "        return self.__camera\n",
    "\n",
    "\n",
    "class SmartPhone(Phone):\n",
    "    def __init__(self, os, ram):\n",
    "        self.os = os\n",
    "        self.ram = ram\n",
    "        print(\"This is SmartPhone constructor\")\n",
    "\n",
    "    def buy(self):\n",
    "        return (\"Buying a SmartPhone\")\n",
    "\n",
    "\n",
    "s = SmartPhone('Iphone',2)\n",
    "s.buy()"
   ]
  },
  {
   "cell_type": "code",
   "execution_count": 5,
   "metadata": {},
   "outputs": [
    {
     "name": "stdout",
     "output_type": "stream",
     "text": [
      "Inside Phone Constructor\n",
      "13\n",
      "20000\n"
     ]
    }
   ],
   "source": [
    "# child can't access private members of the class\n",
    "\n",
    "class Phone:\n",
    "    def __init__(self, price, brand, camera):\n",
    "        self.__price = price\n",
    "        self.__brand = brand\n",
    "        self.camera = camera\n",
    "        print(\"Inside Phone Constructor\")\n",
    "    \n",
    "    def show(self):\n",
    "        print(self.__price)\n",
    "\n",
    "class SmartPhone(Phone):\n",
    "    def check(self):\n",
    "        print(self.__price)\n",
    "\n",
    "s = SmartPhone(20000, \"Apple\", 13)\n",
    "print(s.camera)\n",
    "s.show()"
   ]
  },
  {
   "cell_type": "code",
   "execution_count": 6,
   "metadata": {},
   "outputs": [
    {
     "name": "stdout",
     "output_type": "stream",
     "text": [
      "Inside phone constructor\n",
      "Buying a smartphone\n"
     ]
    }
   ],
   "source": [
    "# Method Overriding: Similary, the child class contructor gets executed, if child class has method with similar to parent class, then the parent class method get overriden.\n",
    "class Phone:\n",
    "    def __init__(self, price, brand, camera):\n",
    "        print (\"Inside phone constructor\")\n",
    "        self.__price = price\n",
    "        self.brand = brand\n",
    "        self.camera = camera\n",
    "\n",
    "    def buy(self):\n",
    "        print (\"Buying a phone\")\n",
    "\n",
    "class SmartPhone(Phone):\n",
    "    def buy(self):\n",
    "        print (\"Buying a smartphone\")\n",
    "\n",
    "s=SmartPhone(20000, \"Apple\", 13)\n",
    "\n",
    "s.buy()"
   ]
  },
  {
   "cell_type": "code",
   "execution_count": null,
   "metadata": {},
   "outputs": [],
   "source": []
  },
  {
   "cell_type": "code",
   "execution_count": null,
   "metadata": {},
   "outputs": [],
   "source": []
  },
  {
   "cell_type": "code",
   "execution_count": 33,
   "metadata": {},
   "outputs": [
    {
     "name": "stdout",
     "output_type": "stream",
     "text": [
      "1. First Child Class gets executed\n",
      "2. This is Phone Constructor\n",
      "3. This is SmartPhone constructor\n",
      "4. This is child os attribute: ios\n",
      "5. This is child ram attribute: 16\n",
      "\n",
      "6. This is get_price() getter method to call  Parent attribute value: 5000\n",
      "7. This is get_brand() getter method to call  Parent attribute value: Iphone\n",
      "8. This is get_camera() getter method to call  Parent attribute value: 13\n",
      "\n",
      "Smmary:\n",
      " 1) super cannot access variables\n",
      " 2) super cannot be used outside the class\n",
      " 3) super() is used in child class\n"
     ]
    }
   ],
   "source": [
    "## Super -> constructor\n",
    "class Phone:\n",
    "    def __init__(self, price, brand, camera):\n",
    "        self.__price = price\n",
    "        self.__brand = brand\n",
    "        self.__camera = camera\n",
    "        print(\"2. This is Phone Constructor\")\n",
    "    \n",
    "    ## Getter methods\n",
    "    def get_price(self):\n",
    "        return self.__price\n",
    "    \n",
    "    def get_brand(self):\n",
    "        return self.__brand\n",
    "    \n",
    "    def get_camera(self):\n",
    "        return self.__camera\n",
    "\n",
    "\n",
    "class SmartPhone(Phone):\n",
    "    def __init__(self,price, brand, camera, os, ram):\n",
    "        print(\"1. First Child Class gets executed\")\n",
    "        super().__init__(price, brand, camera)\n",
    "        self.os = os\n",
    "        self.ram = ram\n",
    "        print(\"3. This is SmartPhone constructor\")\n",
    "\n",
    "\n",
    "\n",
    "s = SmartPhone(5000,'Iphone',13, 'ios', 16)\n",
    "\n",
    "print(f\"4. This is child os attribute: {s.os}\")\n",
    "print(f\"5. This is child ram attribute: {s.ram}\\n\")\n",
    "\n",
    "\n",
    "\n",
    "print(f\"6. This is get_price() getter method to call  Parent attribute value: {s.get_price()}\")\n",
    "print(f\"7. This is get_brand() getter method to call  Parent attribute value: {s.get_brand()}\")\n",
    "print(f\"8. This is get_camera() getter method to call  Parent attribute value: {s.get_camera()}\\n\")\n",
    "\n",
    "print(\"Smmary:\\n 1) super cannot access variables\\n 2) super cannot be used outside the class\\n 3) super() is used in child class\")"
   ]
  },
  {
   "cell_type": "markdown",
   "metadata": {},
   "source": [
    "##### Inheritance in summary\n",
    "\n",
    "- A class can inherit from another class.\n",
    "\n",
    "- Inheritance improves code reuse\n",
    "\n",
    "- Constructor, attributes, methods get inherited to the child class\n",
    "\n",
    "- The parent has no access to the child class\n",
    "\n",
    "- Private properties of parent are not accessible directly in child class\n",
    "\n",
    "- Child class can override the attributes or methods. This is called method overriding\n",
    "\n",
    "- super() is an inbuilt function which is used to invoke the parent class methods and constructor"
   ]
  },
  {
   "cell_type": "code",
   "execution_count": null,
   "metadata": {},
   "outputs": [],
   "source": []
  },
  {
   "cell_type": "markdown",
   "metadata": {},
   "source": [
    "### Types of Inheritance\n",
    "\n",
    "- Single Inheritance\n",
    "- Multilevel Inheritance\n",
    "- Hierarchical Inheritance\n",
    "- Multiple Inheritance(Diamond Problem)\n",
    "- Hybrid Inheritance"
   ]
  },
  {
   "cell_type": "code",
   "execution_count": null,
   "metadata": {},
   "outputs": [],
   "source": []
  },
  {
   "cell_type": "markdown",
   "metadata": {},
   "source": [
    "- Single Inheritance"
   ]
  },
  {
   "cell_type": "code",
   "execution_count": 34,
   "metadata": {},
   "outputs": [
    {
     "name": "stdout",
     "output_type": "stream",
     "text": [
      "Inside phone constructor\n",
      "Buying a phone\n"
     ]
    }
   ],
   "source": [
    "# single inheritance\n",
    "class Phone:\n",
    "    def __init__(self, price, brand, camera):\n",
    "        print (\"Inside phone constructor\")\n",
    "        self.__price = price\n",
    "        self.brand = brand\n",
    "        self.camera = camera\n",
    "\n",
    "    def buy(self):\n",
    "        print (\"Buying a phone\")\n",
    "\n",
    "class SmartPhone(Phone):\n",
    "    pass\n",
    "\n",
    "SmartPhone(1000,\"Apple\",\"13px\").buy()"
   ]
  },
  {
   "cell_type": "code",
   "execution_count": null,
   "metadata": {},
   "outputs": [],
   "source": []
  },
  {
   "cell_type": "markdown",
   "metadata": {},
   "source": [
    "- Multilevel Inheritance"
   ]
  },
  {
   "cell_type": "code",
   "execution_count": 3,
   "metadata": {},
   "outputs": [
    {
     "name": "stdout",
     "output_type": "stream",
     "text": [
      "Inside phone constructor\n",
      "Buying a phone\n",
      "Product customer review\n"
     ]
    }
   ],
   "source": [
    "# multilevel\n",
    "class Product:\n",
    "    def review(self):\n",
    "        print (\"Product customer review\")\n",
    "\n",
    "class Phone(Product):\n",
    "    def __init__(self, price, brand, camera):\n",
    "        print (\"Inside phone constructor\")\n",
    "        self.__price = price\n",
    "        self.brand = brand\n",
    "        self.camera = camera\n",
    "\n",
    "    def buy(self):\n",
    "        print (\"Buying a phone\")\n",
    "\n",
    "class SmartPhone(Phone):\n",
    "    pass\n",
    "\n",
    "s=SmartPhone(20000, \"Apple\", 12)\n",
    "\n",
    "s.buy()\n",
    "s.review()"
   ]
  },
  {
   "cell_type": "code",
   "execution_count": null,
   "metadata": {},
   "outputs": [],
   "source": []
  },
  {
   "cell_type": "markdown",
   "metadata": {},
   "source": [
    "- Hierarchical Inheritance\n"
   ]
  },
  {
   "cell_type": "code",
   "execution_count": 4,
   "metadata": {},
   "outputs": [
    {
     "name": "stdout",
     "output_type": "stream",
     "text": [
      "Inside phone constructor\n",
      "Buying a phone\n",
      "Inside phone constructor\n",
      "Buying a phone\n"
     ]
    }
   ],
   "source": [
    "# Hierarchical\n",
    "class Phone:\n",
    "    def __init__(self, price, brand, camera):\n",
    "        print (\"Inside phone constructor\")\n",
    "        self.__price = price\n",
    "        self.brand = brand\n",
    "        self.camera = camera\n",
    "\n",
    "    def buy(self):\n",
    "        print (\"Buying a phone\")\n",
    "\n",
    "class SmartPhone(Phone):\n",
    "    pass\n",
    "\n",
    "class FeaturePhone(Phone):\n",
    "    pass\n",
    "\n",
    "SmartPhone(1000,\"Apple\",\"13px\").buy()\n",
    "FeaturePhone(10,\"Lava\",\"1px\").buy()"
   ]
  },
  {
   "cell_type": "code",
   "execution_count": null,
   "metadata": {},
   "outputs": [],
   "source": []
  },
  {
   "cell_type": "markdown",
   "metadata": {},
   "source": [
    "- Multiple Inheritance(Diamond Problem)\n"
   ]
  },
  {
   "cell_type": "code",
   "execution_count": 5,
   "metadata": {},
   "outputs": [
    {
     "name": "stdout",
     "output_type": "stream",
     "text": [
      "Inside phone constructor\n",
      "Buying a phone\n",
      "Customer review\n"
     ]
    }
   ],
   "source": [
    "# Multiple\n",
    "class Phone:\n",
    "    def __init__(self, price, brand, camera):\n",
    "        print (\"Inside phone constructor\")\n",
    "        self.__price = price\n",
    "        self.brand = brand\n",
    "        self.camera = camera\n",
    "\n",
    "    def buy(self):\n",
    "        print (\"Buying a phone\")\n",
    "\n",
    "class Product:\n",
    "    def review(self):\n",
    "        print (\"Customer review\")\n",
    "\n",
    "class SmartPhone(Phone, Product):\n",
    "    pass\n",
    "\n",
    "s=SmartPhone(20000, \"Apple\", 12)\n",
    "\n",
    "s.buy()\n",
    "s.review()\n"
   ]
  },
  {
   "cell_type": "code",
   "execution_count": null,
   "metadata": {},
   "outputs": [
    {
     "name": "stdout",
     "output_type": "stream",
     "text": [
      "Inside phone constructor\n",
      "Phone buy() method\n",
      "Inside phone constructor\n",
      "Product buy() method\n"
     ]
    }
   ],
   "source": [
    "# the diamond problem\n",
    "# https://stackoverflow.com/questions/56361048/what-is-the-diamond-problem-in-python-and-why-its-not-appear-in-python2\n",
    "class Phone:\n",
    "    def __init__(self, price, brand, camera):\n",
    "        print (\"Inside phone constructor\")\n",
    "        self.__price = price\n",
    "        self.brand = brand\n",
    "        self.camera = camera\n",
    "\n",
    "    def buy(self):\n",
    "        print (\"Phone buy() method\")\n",
    "\n",
    "class Product:\n",
    "    def buy(self):\n",
    "        print (\"Product buy() method\")\n",
    "\n",
    "# Method resolution order (MRO)\n",
    "class SmartPhone(Phone,Product): ## Phone Parent class gets executed\n",
    "    pass\n",
    "\n",
    "# Method resolution order (MRO)\n",
    "class SmartPhone2(Product,Phone): ## Product Paresnt class gets executed\n",
    "    pass\n",
    "\n",
    "s=SmartPhone(20000, \"Apple\", 12)\n",
    "s.buy()\n",
    "\n",
    "s2=SmartPhone2(20000, \"Apple\", 12)\n",
    "s2.buy()"
   ]
  },
  {
   "cell_type": "code",
   "execution_count": null,
   "metadata": {},
   "outputs": [],
   "source": []
  },
  {
   "cell_type": "markdown",
   "metadata": {},
   "source": [
    "- Hybrid Inheritance"
   ]
  },
  {
   "cell_type": "code",
   "execution_count": 12,
   "metadata": {},
   "outputs": [
    {
     "name": "stdout",
     "output_type": "stream",
     "text": [
      "70\n"
     ]
    }
   ],
   "source": [
    "class A:\n",
    "\n",
    "    def m1(self):\n",
    "        return 20\n",
    "\n",
    "class B(A):\n",
    "\n",
    "    def m1(self):\n",
    "        return 30\n",
    "\n",
    "    def m2(self):\n",
    "        return 40\n",
    "\n",
    "class C(B):\n",
    "  \n",
    "    def m2(self):\n",
    "        return 20\n",
    "obj1=A()\n",
    "obj2=B()\n",
    "obj3=C()\n",
    "print(obj1.m1() + obj3.m1()+ obj3.m2())"
   ]
  },
  {
   "cell_type": "code",
   "execution_count": null,
   "metadata": {},
   "outputs": [],
   "source": []
  },
  {
   "cell_type": "markdown",
   "metadata": {},
   "source": [
    "### Polymorphism\n",
    "\n",
    "- Method Overriding #Having same methods in both Parent and Child Class, which gets over ridden by child's methos\n",
    "- Operator Overloading #"
   ]
  },
  {
   "cell_type": "code",
   "execution_count": null,
   "metadata": {},
   "outputs": [],
   "source": []
  },
  {
   "cell_type": "markdown",
   "metadata": {},
   "source": [
    "### Abstraction\n",
    "- It is an idea enforcing abstract method in the child class"
   ]
  },
  {
   "cell_type": "code",
   "execution_count": 14,
   "metadata": {},
   "outputs": [],
   "source": [
    "from abc import ABC,abstractmethod\n",
    "class BankApp(ABC):\n",
    "\n",
    "  def database(self):\n",
    "    print('connected to database')\n",
    "\n",
    "  @abstractmethod\n",
    "  def security(self):\n",
    "    pass\n",
    "\n",
    "  @abstractmethod\n",
    "  def display(self):\n",
    "    pass\n"
   ]
  },
  {
   "cell_type": "code",
   "execution_count": 15,
   "metadata": {},
   "outputs": [],
   "source": [
    "class MobileApp(BankApp):\n",
    "\n",
    "  def mobile_login(self):\n",
    "    print('login into mobile')\n",
    "\n",
    "  def security(self):\n",
    "    print('mobile security')\n",
    "\n",
    "  def display(self):\n",
    "    print('display')"
   ]
  },
  {
   "cell_type": "code",
   "execution_count": 16,
   "metadata": {},
   "outputs": [],
   "source": [
    "mob = MobileApp()"
   ]
  },
  {
   "cell_type": "code",
   "execution_count": null,
   "metadata": {},
   "outputs": [],
   "source": [
    "mob."
   ]
  }
 ],
 "metadata": {
  "kernelspec": {
   "display_name": "ds_generic",
   "language": "python",
   "name": "ds_generic"
  },
  "language_info": {
   "codemirror_mode": {
    "name": "ipython",
    "version": 3
   },
   "file_extension": ".py",
   "mimetype": "text/x-python",
   "name": "python",
   "nbconvert_exporter": "python",
   "pygments_lexer": "ipython3",
   "version": "3.9.19"
  }
 },
 "nbformat": 4,
 "nbformat_minor": 2
}
