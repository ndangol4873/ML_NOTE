{
 "cells": [
  {
   "cell_type": "markdown",
   "metadata": {},
   "source": [
    "### Write OOP classes to handle the following scenarios:\n",
    "\n",
    "- A user can create and view 2D coordinates\n",
    "- A user can find out the distance between 2 coordinates\n",
    "- A user can find find the distance of a coordinate from origin\n",
    "- A user can check if a point lies on a given line\n",
    "- A user can find the distance between a given 2D point and a given line\n",
    "\n"
   ]
  },
  {
   "cell_type": "code",
   "execution_count": null,
   "metadata": {},
   "outputs": [],
   "source": [
    "class Point:\n",
    "\n",
    "    def __init__(self,x,y) -> None:\n",
    "        self.x_cod = x\n",
    "        self.y_cod = y\n",
    "\n",
    "    def __str__(self) -> str:\n",
    "        return f\"<{self.x_cod},{self.y_cod}>\"\n",
    "    \n",
    "    def euclidean_distance(self,other):\n",
    "        first_x_codinate = self.x_cod\n",
    "        first_y_codinate = self.y_cod\n",
    "        second_x_cordinate = other.x_cod\n",
    "        second_y_cordinate = other.y_cod\n",
    "        distance = ((first_x_codinate - second_x_cordinate)**2 + (first_y_codinate - second_y_cordinate)**2)**0.5\n",
    "        return distance\n",
    "        \n",
    "    def distance_from_origin(self):\n",
    "        # return self.euclidean_distance(Point(0,0))\n",
    "        return (self.x_cod**2 + self.y_cod**2)**0.5\n",
    "\n"
   ]
  },
  {
   "cell_type": "code",
   "execution_count": 2,
   "metadata": {},
   "outputs": [
    {
     "name": "stdout",
     "output_type": "stream",
     "text": [
      "5.0990195135927845\n",
      "5.385164807134504\n",
      "10.04987562112089\n"
     ]
    }
   ],
   "source": [
    "p1 = Point(2,5)\n",
    "p2 = Point(1,10)\n",
    "\n",
    "\n",
    "ed = p1.euclidean_distance(p2)\n",
    "print(ed)\n",
    "print(p1.distance_from_origin())\n",
    "print(p2.distance_from_origin())"
   ]
  },
  {
   "cell_type": "code",
   "execution_count": null,
   "metadata": {},
   "outputs": [],
   "source": []
  },
  {
   "cell_type": "markdown",
   "metadata": {},
   "source": [
    "### Condition for Cheking if the if x and y lies on the line \n",
    "- A(X) + B(Y) + C = 0 \n",
    "- IF LHS = RHS \n",
    "\n",
    "### Shortest Distance \n",
    "-"
   ]
  },
  {
   "cell_type": "code",
   "execution_count": 30,
   "metadata": {},
   "outputs": [],
   "source": [
    "\n",
    "class Line:\n",
    "    \n",
    "    def __init__(self,A,B,C):\n",
    "        self.A = A\n",
    "        self.B = B\n",
    "        self.C = C\n",
    "\n",
    "    def __str__(self):\n",
    "        return f\"{self.A}x + {self.B}y + {self.C} = 0\"\n",
    "    \n",
    "    def point_on_line(self, points):\n",
    "        if self.A*points.x_cod + self.B*points.y_cod + self.C == 0:\n",
    "            print(f\"Given ({points.x_cod},{points.y_cod}) lies on the Line\")\n",
    "        else:\n",
    "            print(f\"Given ({points.x_cod},{points.y_cod}) does not lies on the Line\")\n",
    "    \n",
    "    def shortest_distance(self, point):\n",
    "        numerator = abs(self.A*point.x_cod + self.B*point.y_cod + self.C)\n",
    "        denominator = (self.A**2 + self.B**2)**0.5 \n",
    "        return round(numerator/denominator)\n",
    "\n"
   ]
  },
  {
   "cell_type": "code",
   "execution_count": 31,
   "metadata": {},
   "outputs": [
    {
     "name": "stdout",
     "output_type": "stream",
     "text": [
      "1x + 1y + -2 = 0\n",
      "<1,10>\n",
      "Given (1,10) does not lies on the Line\n"
     ]
    }
   ],
   "source": [
    "## Object Instation \n",
    "\n",
    "l1 = Line(1,1,-2)\n",
    "p1 = Point(1,10)\n",
    "print(l1)\n",
    "print(p1)\n",
    "\n",
    "l1.point_on_line(p1)"
   ]
  },
  {
   "cell_type": "code",
   "execution_count": 32,
   "metadata": {},
   "outputs": [
    {
     "data": {
      "text/plain": [
       "6"
      ]
     },
     "execution_count": 32,
     "metadata": {},
     "output_type": "execute_result"
    }
   ],
   "source": [
    "l1.shortest_distance(p1)"
   ]
  },
  {
   "cell_type": "code",
   "execution_count": null,
   "metadata": {},
   "outputs": [],
   "source": []
  },
  {
   "cell_type": "code",
   "execution_count": null,
   "metadata": {},
   "outputs": [],
   "source": []
  }
 ],
 "metadata": {
  "kernelspec": {
   "display_name": "ds_generic",
   "language": "python",
   "name": "ds_generic"
  },
  "language_info": {
   "codemirror_mode": {
    "name": "ipython",
    "version": 3
   },
   "file_extension": ".py",
   "mimetype": "text/x-python",
   "name": "python",
   "nbconvert_exporter": "python",
   "pygments_lexer": "ipython3",
   "version": "3.9.19"
  }
 },
 "nbformat": 4,
 "nbformat_minor": 2
}
