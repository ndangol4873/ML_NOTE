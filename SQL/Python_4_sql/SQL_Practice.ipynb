{
 "cells": [
  {
   "cell_type": "code",
   "execution_count": 13,
   "metadata": {},
   "outputs": [],
   "source": [
    "import pandas as pd\n",
    "import mysql.connector\n",
    "import getpass,os\n",
    "\n",
    "from mysql_connect import MySqlConnection\n",
    "\n",
    "import numpy as np\n",
    "import pandas as pd\n",
    "import os\n",
    "from pathlib import Path\n"
   ]
  },
  {
   "cell_type": "code",
   "execution_count": null,
   "metadata": {},
   "outputs": [],
   "source": []
  },
  {
   "cell_type": "code",
   "execution_count": 14,
   "metadata": {},
   "outputs": [
    {
     "name": "stdout",
     "output_type": "stream",
     "text": [
      "MySql Server Connection Established...\n",
      "\n",
      "Connection Details:\n",
      "User --> analysis@localhost\n",
      "Date Time --> 2025-03-18 10:55:21 PM\n"
     ]
    }
   ],
   "source": [
    "### Mysql Server Connection \n",
    "\n",
    "budget_schema_config = {\n",
    "    \"host\":\"127.0.0.1\",\n",
    "    \"user\":\"analysis\"\n",
    "\n",
    "}\n",
    "\n",
    "mysql_conn = MySqlConnection(**budget_schema_config)\n",
    "mysql_conn.connect()"
   ]
  },
  {
   "cell_type": "code",
   "execution_count": 15,
   "metadata": {},
   "outputs": [
    {
     "name": "stdout",
     "output_type": "stream",
     "text": [
      "Database SQL_PRACTICE created successfully\n"
     ]
    }
   ],
   "source": [
    "db_name='SQL_PRACTICE'\n",
    "mysql_conn.create_datebase(db_name=db_name)"
   ]
  },
  {
   "cell_type": "code",
   "execution_count": null,
   "metadata": {},
   "outputs": [],
   "source": []
  },
  {
   "cell_type": "markdown",
   "metadata": {},
   "source": [
    "#### Weather"
   ]
  },
  {
   "cell_type": "code",
   "execution_count": 16,
   "metadata": {},
   "outputs": [
    {
     "name": "stdout",
     "output_type": "stream",
     "text": [
      "Connected to database: SQL_PRACTICE\n",
      "Table [Weather] created successfully.\n",
      "Reconnecting to MySQL...\n",
      "MySql Server Connection Established...\n",
      "\n",
      "Connection Details:\n",
      "User --> analysis@localhost\n",
      "Date Time --> 2025-03-18 10:55:21 PM\n",
      "Connected to database: SQL_PRACTICE\n",
      "rows inserted successfully.\n",
      "rows inserted successfully.\n",
      "rows inserted successfully.\n",
      "rows inserted successfully.\n"
     ]
    }
   ],
   "source": [
    "table_name = \"Weather\"\n",
    "\n",
    "## Create Table Script\n",
    "create_weather = f\"\"\"drop table if exists {table_name}; \n",
    "                        Create table If Not Exists {table_name} \n",
    "                        (id int, recordDate date, temperature int)\n",
    "                        \"\"\"\n",
    "\n",
    "## Data Base Conection \n",
    "mysql_conn.select_database(db_name=db_name)\n",
    "\n",
    "## Create Table\n",
    "mysql_conn.create_table(create_table_query=create_weather,table_name=table_name)\n",
    "\n",
    "insert_script = \"\"\" insert into Weather (id, recordDate, temperature) values ('1', '2015-01-01', '10')\n",
    "                    insert into Weather (id, recordDate, temperature) values ('2', '2015-01-02', '25')\n",
    "                    insert into Weather (id, recordDate, temperature) values ('3', '2015-01-03', '20')\n",
    "                    insert into Weather (id, recordDate, temperature) values ('4', '2015-01-04', '30') \"\"\"\n",
    "\n",
    "mysql_conn.select_database(db_name=db_name)\n",
    "for row in insert_script.split('\\n'):\n",
    "    insert_script = row\n",
    "    mysql_conn.insert_record(insert_script=insert_script, table_name=table_name)"
   ]
  },
  {
   "cell_type": "code",
   "execution_count": 17,
   "metadata": {},
   "outputs": [
    {
     "name": "stdout",
     "output_type": "stream",
     "text": [
      "Connected to database: SQL_PRACTICE\n"
     ]
    }
   ],
   "source": [
    "mysql_conn.select_database(db_name=db_name)\n"
   ]
  },
  {
   "cell_type": "code",
   "execution_count": null,
   "metadata": {},
   "outputs": [],
   "source": []
  },
  {
   "cell_type": "markdown",
   "metadata": {},
   "source": [
    "#### Write a solution to find all dates' id with higher temperatures compared to its previous dates (yesterday)."
   ]
  },
  {
   "cell_type": "code",
   "execution_count": 19,
   "metadata": {},
   "outputs": [
    {
     "data": {
      "text/html": [
       "<div>\n",
       "<style scoped>\n",
       "    .dataframe tbody tr th:only-of-type {\n",
       "        vertical-align: middle;\n",
       "    }\n",
       "\n",
       "    .dataframe tbody tr th {\n",
       "        vertical-align: top;\n",
       "    }\n",
       "\n",
       "    .dataframe thead th {\n",
       "        text-align: right;\n",
       "    }\n",
       "</style>\n",
       "<table border=\"1\" class=\"dataframe\">\n",
       "  <thead>\n",
       "    <tr style=\"text-align: right;\">\n",
       "      <th></th>\n",
       "      <th>id</th>\n",
       "      <th>recordDate</th>\n",
       "      <th>temperature</th>\n",
       "    </tr>\n",
       "  </thead>\n",
       "  <tbody>\n",
       "    <tr>\n",
       "      <th>0</th>\n",
       "      <td>1</td>\n",
       "      <td>2015-01-01</td>\n",
       "      <td>10</td>\n",
       "    </tr>\n",
       "    <tr>\n",
       "      <th>1</th>\n",
       "      <td>2</td>\n",
       "      <td>2015-01-02</td>\n",
       "      <td>25</td>\n",
       "    </tr>\n",
       "    <tr>\n",
       "      <th>2</th>\n",
       "      <td>3</td>\n",
       "      <td>2015-01-03</td>\n",
       "      <td>20</td>\n",
       "    </tr>\n",
       "    <tr>\n",
       "      <th>3</th>\n",
       "      <td>4</td>\n",
       "      <td>2015-01-04</td>\n",
       "      <td>30</td>\n",
       "    </tr>\n",
       "  </tbody>\n",
       "</table>\n",
       "</div>"
      ],
      "text/plain": [
       "   id recordDate  temperature\n",
       "0   1 2015-01-01           10\n",
       "1   2 2015-01-02           25\n",
       "2   3 2015-01-03           20\n",
       "3   4 2015-01-04           30"
      ]
     },
     "execution_count": 19,
     "metadata": {},
     "output_type": "execute_result"
    }
   ],
   "source": [
    "data = [[1, '2015-01-01', 10], [2, '2015-01-02', 25], [3, '2015-01-03', 20], [4, '2015-01-04', 30]]\n",
    "weather = pd.DataFrame(data, columns=['id', 'recordDate', 'temperature']).astype({'id':'Int64', 'recordDate':'datetime64[ns]', 'temperature':'Int64'})\n",
    "weather"
   ]
  },
  {
   "cell_type": "code",
   "execution_count": 20,
   "metadata": {},
   "outputs": [
    {
     "data": {
      "text/html": [
       "<div>\n",
       "<style scoped>\n",
       "    .dataframe tbody tr th:only-of-type {\n",
       "        vertical-align: middle;\n",
       "    }\n",
       "\n",
       "    .dataframe tbody tr th {\n",
       "        vertical-align: top;\n",
       "    }\n",
       "\n",
       "    .dataframe thead th {\n",
       "        text-align: right;\n",
       "    }\n",
       "</style>\n",
       "<table border=\"1\" class=\"dataframe\">\n",
       "  <thead>\n",
       "    <tr style=\"text-align: right;\">\n",
       "      <th></th>\n",
       "      <th>id</th>\n",
       "    </tr>\n",
       "  </thead>\n",
       "  <tbody>\n",
       "    <tr>\n",
       "      <th>0</th>\n",
       "      <td>2</td>\n",
       "    </tr>\n",
       "    <tr>\n",
       "      <th>1</th>\n",
       "      <td>4</td>\n",
       "    </tr>\n",
       "  </tbody>\n",
       "</table>\n",
       "</div>"
      ],
      "text/plain": [
       "   id\n",
       "0   2\n",
       "1   4"
      ]
     },
     "execution_count": 20,
     "metadata": {},
     "output_type": "execute_result"
    }
   ],
   "source": [
    "\n",
    "sql = \"\"\"\n",
    "SELECT w1.id\n",
    "FROM Weather w1, Weather w2\n",
    "WHERE DATEDIFF(w1.recordDate, w2.recordDate) = 1 AND w1.temperature > w2.temperature;\n",
    "\"\"\" \n",
    "mysql_conn.select_table_query(sql)"
   ]
  },
  {
   "cell_type": "code",
   "execution_count": 9,
   "metadata": {},
   "outputs": [
    {
     "name": "stdout",
     "output_type": "stream",
     "text": [
      "MySql Connection Closed.........2025-03-18 10:40:57 PM\n",
      "\n"
     ]
    }
   ],
   "source": []
  },
  {
   "cell_type": "code",
   "execution_count": 10,
   "metadata": {},
   "outputs": [
    {
     "data": {
      "text/html": [
       "<div>\n",
       "<style scoped>\n",
       "    .dataframe tbody tr th:only-of-type {\n",
       "        vertical-align: middle;\n",
       "    }\n",
       "\n",
       "    .dataframe tbody tr th {\n",
       "        vertical-align: top;\n",
       "    }\n",
       "\n",
       "    .dataframe thead th {\n",
       "        text-align: right;\n",
       "    }\n",
       "</style>\n",
       "<table border=\"1\" class=\"dataframe\">\n",
       "  <thead>\n",
       "    <tr style=\"text-align: right;\">\n",
       "      <th></th>\n",
       "      <th>id</th>\n",
       "      <th>recordDate</th>\n",
       "      <th>temperature</th>\n",
       "    </tr>\n",
       "  </thead>\n",
       "  <tbody>\n",
       "    <tr>\n",
       "      <th>0</th>\n",
       "      <td>1</td>\n",
       "      <td>2015-01-01</td>\n",
       "      <td>10</td>\n",
       "    </tr>\n",
       "    <tr>\n",
       "      <th>1</th>\n",
       "      <td>2</td>\n",
       "      <td>2015-01-02</td>\n",
       "      <td>25</td>\n",
       "    </tr>\n",
       "    <tr>\n",
       "      <th>2</th>\n",
       "      <td>3</td>\n",
       "      <td>2015-01-03</td>\n",
       "      <td>20</td>\n",
       "    </tr>\n",
       "    <tr>\n",
       "      <th>3</th>\n",
       "      <td>4</td>\n",
       "      <td>2015-01-04</td>\n",
       "      <td>30</td>\n",
       "    </tr>\n",
       "  </tbody>\n",
       "</table>\n",
       "</div>"
      ],
      "text/plain": [
       "   id recordDate  temperature\n",
       "0   1 2015-01-01           10\n",
       "1   2 2015-01-02           25\n",
       "2   3 2015-01-03           20\n",
       "3   4 2015-01-04           30"
      ]
     },
     "execution_count": 10,
     "metadata": {},
     "output_type": "execute_result"
    }
   ],
   "source": []
  },
  {
   "cell_type": "code",
   "execution_count": null,
   "metadata": {},
   "outputs": [],
   "source": []
  },
  {
   "cell_type": "code",
   "execution_count": null,
   "metadata": {},
   "outputs": [],
   "source": []
  },
  {
   "cell_type": "code",
   "execution_count": null,
   "metadata": {},
   "outputs": [],
   "source": []
  },
  {
   "cell_type": "code",
   "execution_count": 21,
   "metadata": {},
   "outputs": [
    {
     "name": "stdout",
     "output_type": "stream",
     "text": [
      "Connected to database: SQL_PRACTICE\n",
      "Table [Activity] created successfully.\n",
      "Reconnecting to MySQL...\n",
      "MySql Server Connection Established...\n",
      "\n",
      "Connection Details:\n",
      "User --> analysis@localhost\n",
      "Date Time --> 2025-03-18 11:05:52 PM\n",
      "Connected to database: SQL_PRACTICE\n",
      "rows inserted successfully.\n",
      "rows inserted successfully.\n",
      "rows inserted successfully.\n",
      "rows inserted successfully.\n",
      "rows inserted successfully.\n",
      "rows inserted successfully.\n",
      "rows inserted successfully.\n",
      "rows inserted successfully.\n",
      "rows inserted successfully.\n",
      "rows inserted successfully.\n",
      "rows inserted successfully.\n",
      "rows inserted successfully.\n"
     ]
    }
   ],
   "source": [
    "table_name = \"Activity\"\n",
    "\n",
    "## Create Table Script\n",
    "create_weather = f\"\"\"drop table if exists {table_name}; \n",
    "                    Create table If Not Exists {table_name}  \n",
    "                    (machine_id int, process_id int, activity_type ENUM('start', 'end'), timestamp float)\n",
    "                    \"\"\"\n",
    "\n",
    "## Data Base Conection \n",
    "mysql_conn.select_database(db_name=db_name)\n",
    "\n",
    "## Create Table\n",
    "mysql_conn.create_table(create_table_query=create_weather,table_name=table_name)\n",
    "\n",
    "insert_script = \"\"\" insert into Activity (machine_id, process_id, activity_type, timestamp) values ('0', '0', 'start', '0.712')\n",
    "insert into Activity (machine_id, process_id, activity_type, timestamp) values ('0', '0', 'end', '1.52')\n",
    "insert into Activity (machine_id, process_id, activity_type, timestamp) values ('0', '1', 'start', '3.14')\n",
    "insert into Activity (machine_id, process_id, activity_type, timestamp) values ('0', '1', 'end', '4.12')\n",
    "insert into Activity (machine_id, process_id, activity_type, timestamp) values ('1', '0', 'start', '0.55')\n",
    "insert into Activity (machine_id, process_id, activity_type, timestamp) values ('1', '0', 'end', '1.55')\n",
    "insert into Activity (machine_id, process_id, activity_type, timestamp) values ('1', '1', 'start', '0.43')\n",
    "insert into Activity (machine_id, process_id, activity_type, timestamp) values ('1', '1', 'end', '1.42')\n",
    "insert into Activity (machine_id, process_id, activity_type, timestamp) values ('2', '0', 'start', '4.1')\n",
    "insert into Activity (machine_id, process_id, activity_type, timestamp) values ('2', '0', 'end', '4.512')\n",
    "insert into Activity (machine_id, process_id, activity_type, timestamp) values ('2', '1', 'start', '2.5')\n",
    "insert into Activity (machine_id, process_id, activity_type, timestamp) values ('2', '1', 'end', '5') \"\"\"\n",
    "\n",
    "mysql_conn.select_database(db_name=db_name)\n",
    "for row in insert_script.split('\\n'):\n",
    "    insert_script = row\n",
    "    mysql_conn.insert_record(insert_script=insert_script, table_name=table_name)"
   ]
  },
  {
   "cell_type": "code",
   "execution_count": null,
   "metadata": {},
   "outputs": [],
   "source": []
  },
  {
   "cell_type": "markdown",
   "metadata": {},
   "source": [
    "##### The time to complete a process is the 'end' timestamp minus the 'start' timestamp. The average time is calculated by the total time to complete every process on the machine divided by the number of processes that were run.\n",
    "\n",
    "The resulting table should have the machine_id along with the average time as processing_time, which should be rounded to 3 decimal places.\n",
    "\n",
    "Return the result table in any order."
   ]
  },
  {
   "cell_type": "code",
   "execution_count": 22,
   "metadata": {},
   "outputs": [
    {
     "data": {
      "text/html": [
       "<div>\n",
       "<style scoped>\n",
       "    .dataframe tbody tr th:only-of-type {\n",
       "        vertical-align: middle;\n",
       "    }\n",
       "\n",
       "    .dataframe tbody tr th {\n",
       "        vertical-align: top;\n",
       "    }\n",
       "\n",
       "    .dataframe thead th {\n",
       "        text-align: right;\n",
       "    }\n",
       "</style>\n",
       "<table border=\"1\" class=\"dataframe\">\n",
       "  <thead>\n",
       "    <tr style=\"text-align: right;\">\n",
       "      <th></th>\n",
       "      <th>machine_id</th>\n",
       "      <th>PROCESSING_TIME</th>\n",
       "    </tr>\n",
       "  </thead>\n",
       "  <tbody>\n",
       "    <tr>\n",
       "      <th>0</th>\n",
       "      <td>0</td>\n",
       "      <td>0.894</td>\n",
       "    </tr>\n",
       "    <tr>\n",
       "      <th>1</th>\n",
       "      <td>1</td>\n",
       "      <td>0.995</td>\n",
       "    </tr>\n",
       "    <tr>\n",
       "      <th>2</th>\n",
       "      <td>2</td>\n",
       "      <td>1.456</td>\n",
       "    </tr>\n",
       "  </tbody>\n",
       "</table>\n",
       "</div>"
      ],
      "text/plain": [
       "   machine_id  PROCESSING_TIME\n",
       "0           0            0.894\n",
       "1           1            0.995\n",
       "2           2            1.456"
      ]
     },
     "execution_count": 22,
     "metadata": {},
     "output_type": "execute_result"
    }
   ],
   "source": [
    "\n",
    "sql = \"\"\"\n",
    "SELECT MACHINE_ID , ROUND(avg(TOTAL_TIMESTAMP),3) AS PROCESSING_TIME FROM (\n",
    "select A1.*, \n",
    "A2.TIMESTAMP - A1.TIMESTAMP AS Total_timestamp\n",
    "from ACTIVITY A1\n",
    "JOIN ACTIVITY A2\n",
    "ON A1.MACHINE_ID = A2.MACHINE_ID AND A1.PROCESS_ID = A2.PROCESS_ID\n",
    "WHERE A1.ACTIVITY_TYPE = 'start' and A2.ACTIVITY_TYPE = 'end'\n",
    ") AS FINAL\n",
    "GROUP BY MACHINE_ID;\n",
    "\"\"\" \n",
    "mysql_conn.select_table_query(sql)"
   ]
  },
  {
   "cell_type": "code",
   "execution_count": null,
   "metadata": {},
   "outputs": [],
   "source": []
  },
  {
   "cell_type": "code",
   "execution_count": null,
   "metadata": {},
   "outputs": [],
   "source": []
  },
  {
   "cell_type": "code",
   "execution_count": 23,
   "metadata": {},
   "outputs": [
    {
     "name": "stdout",
     "output_type": "stream",
     "text": [
      "MySql Connection Closed.........2025-03-19 12:01:00 AM\n",
      "\n"
     ]
    }
   ],
   "source": [
    "mysql_conn.connection_close()"
   ]
  },
  {
   "cell_type": "code",
   "execution_count": null,
   "metadata": {},
   "outputs": [],
   "source": []
  },
  {
   "cell_type": "code",
   "execution_count": null,
   "metadata": {},
   "outputs": [],
   "source": []
  },
  {
   "cell_type": "code",
   "execution_count": null,
   "metadata": {},
   "outputs": [],
   "source": [
    "    "
   ]
  }
 ],
 "metadata": {
  "kernelspec": {
   "display_name": "ds_generic",
   "language": "python",
   "name": "python3"
  },
  "language_info": {
   "codemirror_mode": {
    "name": "ipython",
    "version": 3
   },
   "file_extension": ".py",
   "mimetype": "text/x-python",
   "name": "python",
   "nbconvert_exporter": "python",
   "pygments_lexer": "ipython3",
   "version": "3.9.20"
  }
 },
 "nbformat": 4,
 "nbformat_minor": 2
}
